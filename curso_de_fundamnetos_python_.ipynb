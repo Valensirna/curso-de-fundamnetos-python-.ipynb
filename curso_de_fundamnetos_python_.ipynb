{
  "nbformat": 4,
  "nbformat_minor": 0,
  "metadata": {
    "colab": {
      "provenance": [],
      "name": "curso-de-fundamnetos-python-.ipynb",
      "authorship_tag": "ABX9TyOeiN2SxKLcNAtNH3moUG/L",
      "include_colab_link": true
    },
    "kernelspec": {
      "name": "python3",
      "display_name": "Python 3"
    },
    "language_info": {
      "name": "python"
    }
  },
  "cells": [
    {
      "cell_type": "markdown",
      "metadata": {
        "id": "view-in-github",
        "colab_type": "text"
      },
      "source": [
        "<a href=\"https://colab.research.google.com/github/Valensirna/curso-de-fundamnetos-python-.ipynb/blob/main/curso_de_fundamnetos_python_.ipynb\" target=\"_parent\"><img src=\"https://colab.research.google.com/assets/colab-badge.svg\" alt=\"Open In Colab\"/></a>"
      ]
    },
    {
      "cell_type": "markdown",
      "source": [
        "# CURSO DE FUNDAMNETOS PYTHON  - PLATZI"
      ],
      "metadata": {
        "id": "u9G1JUYmTLtb"
      }
    },
    {
      "cell_type": "markdown",
      "source": [
        "# **Conceptos básicos de Python**"
      ],
      "metadata": {
        "id": "eGA88yR2TbvJ"
      }
    },
    {
      "cell_type": "markdown",
      "source": [
        "## **Introduccion**"
      ],
      "metadata": {
        "id": "-O7YP9HL1WFR"
      }
    },
    {
      "cell_type": "markdown",
      "source": [
        "**¿Qué es una variable?**\n",
        " \n",
        "● Una variable es una “caja” o lugar en donde puedo guardar objetos: números, texto, etc.\n",
        "\n",
        "● El identificador de mi variable no puede comenzar con un número y debe estar en minúsculas.\n",
        "\n",
        "**Principales variables:**\n",
        "\n",
        "**La función Print()**\n",
        "\n",
        "● Print() -> Texto:\n",
        "\n",
        "Para mostrar texto en Python utiliza la función print(), cuya sintaxis es:\n",
        "\n",
        "\n",
        "Cuando vas a mostrar texto, el interior de los paréntesis de print va con comillas.\n",
        "\n",
        "● Print() -> Números:\n",
        "\n",
        "Si, en lugar de texto, lo que quieres es mostrar números, o el resultado de una operación, debes tener en cuenta la siguiente esta regla.\n",
        "Cuando quieres mostrar números u operaciones, el interior del paréntesis va sin comillas.\n",
        "\n",
        "● Print() -> Números y Textos:\n",
        "\n",
        "La función print() permite incluir variables o expresiones como argumento, lo que te permite combinar texto y variables.\n",
        "\n",
        "\n",
        "**La funcion input()**\n",
        "\n",
        "Mediante la función input() podes enviar un dato por teclado para que el programa lo tome en cuenta.\n",
        "\n",
        "Esta función permite obtener el texto escrito por el usuario, el cual se asignará a un espacio de memoria con el nombre que el programador vea conveniente. Al llegar a la linea que contiene el comando, la consola esperará respuesta. Cuando el usuario escriba algo y presione la tecla Enter, el código seguirá ejecutándose.\n",
        "\n",
        "En otras palabras, lo que estamos indicando al programa es que cierta variable va a tomar el valor que el usuario ingrese cuando se le muestre el mensaje, para posteriormente, responder con otro mensaje y el valor que se ingresó.\n",
        "\n",
        "\n",
        "\n"
      ],
      "metadata": {
        "id": "HoK3vLb3Tt31"
      }
    },
    {
      "cell_type": "markdown",
      "source": [
        "\n",
        "\n",
        "## **Ejemplos**\n",
        "\n"
      ],
      "metadata": {
        "id": "uhvXhfD7YRhG"
      }
    },
    {
      "cell_type": "code",
      "source": [
        "#Print() -> Texto: #\n",
        "\n",
        "print( \"insertar texto\" )\n",
        "\n",
        "\n",
        "#Print() -> Números:#\n",
        "\n",
        "print(1 + 2)\n",
        "\n",
        "x= 9*9\n",
        "print(x)\n",
        "\n",
        "\n",
        "## Print() -> Números y Textos:\n",
        "\n",
        "print(\"Hola Comunidad\")\n",
        "\n",
        "my_name = \"Valentin\"\n",
        "print(my_name)\n",
        "\n",
        "my_age = 22\n",
        "print(my_age)\n",
        "\n",
        "my_fullname = \"Valen Sirna\"\n",
        "print(my_fullname)\n",
        "\n",
        "\n",
        "my_fullname = input(\"¿Cual es tu nombre completo?\")\n",
        "print(\"Mi nombre completo es \", my_fullname)\n",
        "my_age = input(\"¿Cual es tu edad?\")\n",
        "print(\"Mi edad es\" ,  my_age)\n",
        "\n",
        "print(\"tenes\", my_age, \"años\", \"y tu nombre commpleto es\", my_fullname)"
      ],
      "metadata": {
        "colab": {
          "base_uri": "https://localhost:8080/"
        },
        "id": "X2UKf9s8UGNU",
        "outputId": "72ccab3c-cce5-45fc-ada9-1502be9349db"
      },
      "execution_count": null,
      "outputs": [
        {
          "output_type": "stream",
          "name": "stdout",
          "text": [
            "insertar texto\n",
            "3\n",
            "81\n",
            "Hola Comunidad\n",
            "Valentin\n",
            "22\n",
            "Valen Sirna\n",
            "¿Cual es tu nombre completo?Valen Sirna\n",
            "Mi nombre completo es  Valen Sirna\n",
            "¿Cual es tu edad?23\n",
            "Mi edad es 23\n",
            "tenes 23 años y tu nombre commpleto es Valen Sirna\n"
          ]
        }
      ]
    },
    {
      "cell_type": "markdown",
      "source": [
        "## **Tipos de datos**"
      ],
      "metadata": {
        "id": "mRLNIJ431vcc"
      }
    },
    {
      "cell_type": "markdown",
      "source": [
        "\n",
        "\n",
        "Conocer los tipos de datos es fundamental para comenzar con el pie derecho en nuestro camino como Python Developers\n",
        "\n",
        "\n",
        "**Integer:** Tipo de dato para números enteros, ya sean positivos o negativos.\n",
        "\n",
        "**Float:** Tipo de dato para números con precisión decimal, pueden ser negativos o positivos.\n",
        "\n",
        "**String:**Tipo de dato para cadena de texto con caracteres alfanuméricos.\n",
        "\n",
        "**Boolean:**Tipo de dato que solo puede tener dos valores, True (Verdadero) o False (Falso).\n",
        "\n",
        "\n",
        "\n",
        "**La función type() regresa el tipo de dato de una variable o valor**\n",
        "\n",
        "\n",
        "\n",
        "En programación, el tipo de datos es un concepto importante.\n",
        "\n",
        "Las variables pueden almacenar datos de diferentes tipos, y diferentes tipos pueden hacer cosas diferentes.\n",
        "\n",
        "Python tiene los siguientes tipos de datos integrados de forma predeterminada, en estas categorías:\n",
        "\n",
        "● Tipo de texto:\t**str**\n",
        "\n",
        "● Tipos numéricos:\t**int, float, complex**\n",
        "\n",
        "● Tipos de secuencia:\t**list, tuple, range**\n",
        "\n",
        "● Tipo de mapeo:\t**dict**\n",
        "\n",
        "● Establecer tipos:\t**set,frozenset**\n",
        "\n",
        "● Tipo booleano:\t**bool**\n",
        "\n",
        "● Tipos binarios:\t**bytes, bytearray, memoryview**\n",
        "\n",
        "● Ninguno Tipo:\t**NoneType**\n",
        "\n",
        "\n"
      ],
      "metadata": {
        "id": "-aT3rz9cjEXF"
      }
    },
    {
      "cell_type": "markdown",
      "source": [
        "## **Ejemplos**"
      ],
      "metadata": {
        "id": "Bz-bFPjb0ml6"
      }
    },
    {
      "cell_type": "markdown",
      "source": [
        "### **Integer y Float**\n",
        "\n",
        "● Con los tipos de datos Integer y Float podemos realizar operaciones matemáticas como suma +, resta -, multiplicación *, división / entre otras mas.\n",
        "\n",
        "● En la división debemos tener cuidado de no utilizar un denominador en 0, ya que no es posible realizar divisiones entre 0 y Python nos arrojara un error."
      ],
      "metadata": {
        "id": "iFV9zk-js3LA"
      }
    },
    {
      "cell_type": "code",
      "source": [
        "print(20) #  <class 'int'>\n",
        "print(20.0) #   <class 'float'>"
      ],
      "metadata": {
        "id": "qk-_JG5pmFOR",
        "colab": {
          "base_uri": "https://localhost:8080/"
        },
        "outputId": "44d22414-b34c-4456-9a5f-7f86793eddcd"
      },
      "execution_count": null,
      "outputs": [
        {
          "output_type": "execute_result",
          "data": {
            "text/plain": [
              "20"
            ]
          },
          "metadata": {},
          "execution_count": 36
        }
      ]
    },
    {
      "cell_type": "code",
      "source": [
        "print(5 + 3)  # Suma: 8\n",
        "print(5 - 3)  # Resta: 2\n",
        "print(5 * 3)  # Multiplicación: 15\n",
        "print(5 / 3)  # División: 1.6666666666666667\n",
        "\n",
        "# Potencias: Esta operación se realiza con un doblre * (**)\n",
        "print(5 ** 3)  # 125\n"
      ],
      "metadata": {
        "colab": {
          "base_uri": "https://localhost:8080/"
        },
        "id": "-j3Vw1oktIZB",
        "outputId": "5338779c-889d-4f29-a8ac-fd9690e10deb"
      },
      "execution_count": null,
      "outputs": [
        {
          "output_type": "stream",
          "name": "stdout",
          "text": [
            "8\n",
            "2\n",
            "15\n",
            "1.6666666666666667\n",
            "125\n"
          ]
        }
      ]
    },
    {
      "cell_type": "markdown",
      "source": [
        "● Existen operadores especiales para la división como son el // que descarta el resto (decimales) de una división fraccionaria y regresa únicamente el valor entero, también esta su contraparte % llamado módulo, el cual descarta la parte entera y regresa el valor fraccionario como un Integer redondeado."
      ],
      "metadata": {
        "id": "FvfnX5wPtgh3"
      }
    },
    {
      "cell_type": "code",
      "source": [
        "print(5 / 2)  # División: 1.6666666666666667\n",
        "print(5 // 2) # Descarta el resto y regresa: \n",
        "print(5 % 2) # Descarta el entero y regresa el fraccionario en Integer: 1\n",
        "\n",
        "# Cuando la división da como resultado un número entero el modulo % regresa 0\n",
        "print(4 / 2)  # División: 2.0\n",
        "print(4 // 2) # Descarta el resto y regresa: 2\n",
        "print(4 % 2) # Descarta el entero y regresa el fraccionario en Integer: 0"
      ],
      "metadata": {
        "colab": {
          "base_uri": "https://localhost:8080/"
        },
        "id": "yUvwQwbztypB",
        "outputId": "e186bc30-f934-42c3-e80c-01027819b6cf"
      },
      "execution_count": null,
      "outputs": [
        {
          "output_type": "stream",
          "name": "stdout",
          "text": [
            "2.5\n",
            "2\n",
            "1\n",
            "2.0\n",
            "2\n",
            "0\n"
          ]
        }
      ]
    },
    {
      "cell_type": "markdown",
      "source": [
        "● En la división de 4 / 2 a pesar de que el resultado es un numero entero sin decimales, Python lo regresa como 2.0 de tipo Float, ya que las divisiones pueden generar valores decimales (fraccionarios).\n",
        "\n",
        "Los valores flotantes pueden se valores muy grandes o muy pequeños, cuando llegamos a ese tipo casos Python utiliza la notación científica para expresarlos. por ejemplo:"
      ],
      "metadata": {
        "id": "qSW2yPiXvP5r"
      }
    },
    {
      "cell_type": "code",
      "source": [
        "print(0.00000000000000058) \n",
        "print(5800000000000000000.01)"
      ],
      "metadata": {
        "colab": {
          "base_uri": "https://localhost:8080/"
        },
        "id": "R7ZovWedvXTE",
        "outputId": "4373a2f5-1bb4-4d9b-8cbd-6f710b63e47a"
      },
      "execution_count": null,
      "outputs": [
        {
          "output_type": "execute_result",
          "data": {
            "text/plain": [
              "5800000000000000000"
            ]
          },
          "metadata": {},
          "execution_count": 37
        }
      ]
    },
    {
      "cell_type": "code",
      "source": [
        "print(int(3.2)) # Regresa un 3\n",
        "print(type(int(3.2))) # <class 'int'>\n",
        "\n",
        "print(float(3))\n",
        "print(type(float(3))) # <class'float'>\n",
        "\n",
        "print(round(0.6756)) # Regresa: 1\n",
        "print(type(round(0.6756))) # <class'int'>"
      ],
      "metadata": {
        "colab": {
          "base_uri": "https://localhost:8080/"
        },
        "id": "SjUuKGovvkz8",
        "outputId": "95106f12-7c0c-48e7-8a39-df4148e3de29"
      },
      "execution_count": null,
      "outputs": [
        {
          "output_type": "stream",
          "name": "stdout",
          "text": [
            "3\n",
            "<class 'int'>\n",
            "3.0\n",
            "<class 'float'>\n",
            "1\n",
            "<class 'int'>\n"
          ]
        }
      ]
    },
    {
      "cell_type": "markdown",
      "source": [
        "### **String**\n",
        "\n",
        "- Se conoce a este tipo de dato como cadena de texto.\n",
        "- Con la funcion **type** sabes que tipo de dato es."
      ],
      "metadata": {
        "id": "ANCrFU9uL0aF"
      }
    },
    {
      "cell_type": "code",
      "source": [
        "my_name = \"valentin\"\n",
        "\n",
        "print(\"mi nombre es\", my_name)\n",
        "\n",
        "print(type(my_name))"
      ],
      "metadata": {
        "colab": {
          "base_uri": "https://localhost:8080/",
          "height": 235
        },
        "id": "Bp4y5JB9M6MD",
        "outputId": "945d7bd8-6e5c-451a-f9ab-a7d853c364fa"
      },
      "execution_count": null,
      "outputs": [
        {
          "output_type": "error",
          "ename": "TypeError",
          "evalue": "ignored",
          "traceback": [
            "\u001b[0;31m---------------------------------------------------------------------------\u001b[0m",
            "\u001b[0;31mTypeError\u001b[0m                                 Traceback (most recent call last)",
            "\u001b[0;32m<ipython-input-38-fef5bcf4f5ad>\u001b[0m in \u001b[0;36m<module>\u001b[0;34m\u001b[0m\n\u001b[1;32m      1\u001b[0m \u001b[0mmy_name\u001b[0m \u001b[0;34m=\u001b[0m \u001b[0;34m\"valentin\"\u001b[0m\u001b[0;34m\u001b[0m\u001b[0;34m\u001b[0m\u001b[0m\n\u001b[1;32m      2\u001b[0m \u001b[0;34m\u001b[0m\u001b[0m\n\u001b[0;32m----> 3\u001b[0;31m \u001b[0mprint\u001b[0m\u001b[0;34m(\u001b[0m\u001b[0;34m\"mi nombre es\"\u001b[0m\u001b[0;34m,\u001b[0m \u001b[0mmy_name\u001b[0m\u001b[0;34m)\u001b[0m\u001b[0;34m\u001b[0m\u001b[0;34m\u001b[0m\u001b[0m\n\u001b[0m\u001b[1;32m      4\u001b[0m \u001b[0;34m\u001b[0m\u001b[0m\n\u001b[1;32m      5\u001b[0m \u001b[0mprint\u001b[0m\u001b[0;34m(\u001b[0m\u001b[0mtype\u001b[0m\u001b[0;34m(\u001b[0m\u001b[0mmy_name\u001b[0m\u001b[0;34m)\u001b[0m\u001b[0;34m)\u001b[0m\u001b[0;34m\u001b[0m\u001b[0;34m\u001b[0m\u001b[0m\n",
            "\u001b[0;31mTypeError\u001b[0m: 'str' object cannot be interpreted as an integer"
          ]
        }
      ]
    },
    {
      "cell_type": "markdown",
      "source": [
        "** SLICING SRINGS **\n",
        "\n",
        "\n",
        "- Podes devolver un rango de caracteres utilizando la sintaxis de división.\n",
        "\n",
        "1) Especifique el índice inicial y el índice final, separados por dos puntos, para devolver una parte de la cadena."
      ],
      "metadata": {
        "id": "z9rInAvHPtsn"
      }
    },
    {
      "cell_type": "code",
      "source": [
        "b = \"Hello, World!\"\n",
        "print(b[1:12])"
      ],
      "metadata": {
        "colab": {
          "base_uri": "https://localhost:8080/",
          "height": 183
        },
        "id": "XlKNZWuaQzRR",
        "outputId": "c72d37a9-548c-4388-da55-f7c88ab2dd93"
      },
      "execution_count": null,
      "outputs": [
        {
          "output_type": "error",
          "ename": "ValueError",
          "evalue": "ignored",
          "traceback": [
            "\u001b[0;31m---------------------------------------------------------------------------\u001b[0m",
            "\u001b[0;31mValueError\u001b[0m                                Traceback (most recent call last)",
            "\u001b[0;32m<ipython-input-39-00db32e9bff5>\u001b[0m in \u001b[0;36m<module>\u001b[0;34m\u001b[0m\n\u001b[1;32m      1\u001b[0m \u001b[0mb\u001b[0m \u001b[0;34m=\u001b[0m \u001b[0;34m\"Hello, World!\"\u001b[0m\u001b[0;34m\u001b[0m\u001b[0;34m\u001b[0m\u001b[0m\n\u001b[0;32m----> 2\u001b[0;31m \u001b[0mprint\u001b[0m\u001b[0;34m(\u001b[0m\u001b[0mb\u001b[0m\u001b[0;34m[\u001b[0m\u001b[0;36m1\u001b[0m\u001b[0;34m:\u001b[0m\u001b[0;36m12\u001b[0m\u001b[0;34m]\u001b[0m\u001b[0;34m)\u001b[0m\u001b[0;34m\u001b[0m\u001b[0;34m\u001b[0m\u001b[0m\n\u001b[0m",
            "\u001b[0;31mValueError\u001b[0m: invalid literal for int() with base 10: 'ello, World'"
          ]
        }
      ]
    },
    {
      "cell_type": "markdown",
      "source": [
        "2) Al omitir el índice de inicio, el rango comenzará en el primer carácter:"
      ],
      "metadata": {
        "id": "deLiI8pgRfOT"
      }
    },
    {
      "cell_type": "code",
      "source": [
        "b = \"Hello, World!\"\n",
        "print(b[:11])"
      ],
      "metadata": {
        "colab": {
          "base_uri": "https://localhost:8080/",
          "height": 183
        },
        "id": "TGeo_NwoRjUi",
        "outputId": "e7a70662-70e7-49b0-9db1-dbdedccbdb9c"
      },
      "execution_count": null,
      "outputs": [
        {
          "output_type": "error",
          "ename": "ValueError",
          "evalue": "ignored",
          "traceback": [
            "\u001b[0;31m---------------------------------------------------------------------------\u001b[0m",
            "\u001b[0;31mValueError\u001b[0m                                Traceback (most recent call last)",
            "\u001b[0;32m<ipython-input-40-7c4c44a3a79f>\u001b[0m in \u001b[0;36m<module>\u001b[0;34m\u001b[0m\n\u001b[1;32m      1\u001b[0m \u001b[0mb\u001b[0m \u001b[0;34m=\u001b[0m \u001b[0;34m\"Hello, World!\"\u001b[0m\u001b[0;34m\u001b[0m\u001b[0;34m\u001b[0m\u001b[0m\n\u001b[0;32m----> 2\u001b[0;31m \u001b[0mprint\u001b[0m\u001b[0;34m(\u001b[0m\u001b[0mb\u001b[0m\u001b[0;34m[\u001b[0m\u001b[0;34m:\u001b[0m\u001b[0;36m11\u001b[0m\u001b[0;34m]\u001b[0m\u001b[0;34m)\u001b[0m\u001b[0;34m\u001b[0m\u001b[0;34m\u001b[0m\u001b[0m\n\u001b[0m",
            "\u001b[0;31mValueError\u001b[0m: invalid literal for int() with base 10: 'Hello, Worl'"
          ]
        }
      ]
    },
    {
      "cell_type": "markdown",
      "source": [
        "3) Utilice índices negativos para iniciar el segmento desde el final de la cadena:\n",
        "\n",
        "Consigue los personajes\n",
        "\n",
        "Para no incluir \"H\" en \"Hello\" (posición -11)\n",
        "\n",
        "Para no incluir: \"d\" en \"¡Mundo!\" (posición -2):"
      ],
      "metadata": {
        "id": "OBHx-7BoRzbG"
      }
    },
    {
      "cell_type": "code",
      "source": [
        "b = \"Hello, World!\"\n",
        "print(b[-11:-2])"
      ],
      "metadata": {
        "colab": {
          "base_uri": "https://localhost:8080/",
          "height": 183
        },
        "id": "6LncmqGRSJ6S",
        "outputId": "151ac3af-81b2-42ba-ae25-61b5745a5720"
      },
      "execution_count": null,
      "outputs": [
        {
          "output_type": "error",
          "ename": "ValueError",
          "evalue": "ignored",
          "traceback": [
            "\u001b[0;31m---------------------------------------------------------------------------\u001b[0m",
            "\u001b[0;31mValueError\u001b[0m                                Traceback (most recent call last)",
            "\u001b[0;32m<ipython-input-41-b742630515c8>\u001b[0m in \u001b[0;36m<module>\u001b[0;34m\u001b[0m\n\u001b[1;32m      1\u001b[0m \u001b[0mb\u001b[0m \u001b[0;34m=\u001b[0m \u001b[0;34m\"Hello, World!\"\u001b[0m\u001b[0;34m\u001b[0m\u001b[0;34m\u001b[0m\u001b[0m\n\u001b[0;32m----> 2\u001b[0;31m \u001b[0mprint\u001b[0m\u001b[0;34m(\u001b[0m\u001b[0mb\u001b[0m\u001b[0;34m[\u001b[0m\u001b[0;34m-\u001b[0m\u001b[0;36m11\u001b[0m\u001b[0;34m:\u001b[0m\u001b[0;34m-\u001b[0m\u001b[0;36m2\u001b[0m\u001b[0;34m]\u001b[0m\u001b[0;34m)\u001b[0m\u001b[0;34m\u001b[0m\u001b[0;34m\u001b[0m\u001b[0m\n\u001b[0m",
            "\u001b[0;31mValueError\u001b[0m: invalid literal for int() with base 10: 'llo, Worl'"
          ]
        }
      ]
    },
    {
      "cell_type": "markdown",
      "source": [
        "** Replace String **\n",
        "\n",
        "- El replace()  método reemplaza una cadena con otra cadena:"
      ],
      "metadata": {
        "id": "d6MhCZywTrUe"
      }
    },
    {
      "cell_type": "code",
      "source": [
        "a = \" Comunidad , Resiliente\"\n",
        "print(a.replace(\"Resiliente\", \"Speezard\"))"
      ],
      "metadata": {
        "colab": {
          "base_uri": "https://localhost:8080/"
        },
        "id": "UkkQPkvsT9ff",
        "outputId": "a8588935-9e3d-44a6-eba8-0b4cc4a7cd3d"
      },
      "execution_count": null,
      "outputs": [
        {
          "output_type": "stream",
          "name": "stdout",
          "text": [
            " Comunidad , Speezard\n"
          ]
        }
      ]
    },
    {
      "cell_type": "markdown",
      "source": [
        "** Split String **\n",
        "\n",
        "- El split() método devuelve una lista donde el texto entre el separador especificado se convierte en los elementos de la lista.\n",
        "\n",
        "- El split() método divide la cadena en subcadenas si encuentra instancias del separador:"
      ],
      "metadata": {
        "id": "aI-pyHH6U5dB"
      }
    },
    {
      "cell_type": "code",
      "source": [
        "a = \"Hello, World!\"\n",
        "print(a.split(\",\")) # returns ['Hello', ' World!']"
      ],
      "metadata": {
        "colab": {
          "base_uri": "https://localhost:8080/",
          "height": 183
        },
        "id": "1RWMae-rVRCa",
        "outputId": "9e25caa0-f16f-4e9c-d02a-7cfe2831516d"
      },
      "execution_count": null,
      "outputs": [
        {
          "output_type": "error",
          "ename": "TypeError",
          "evalue": "ignored",
          "traceback": [
            "\u001b[0;31m---------------------------------------------------------------------------\u001b[0m",
            "\u001b[0;31mTypeError\u001b[0m                                 Traceback (most recent call last)",
            "\u001b[0;32m<ipython-input-43-c8a678247097>\u001b[0m in \u001b[0;36m<module>\u001b[0;34m\u001b[0m\n\u001b[1;32m      1\u001b[0m \u001b[0ma\u001b[0m \u001b[0;34m=\u001b[0m \u001b[0;34m\"Hello, World!\"\u001b[0m\u001b[0;34m\u001b[0m\u001b[0;34m\u001b[0m\u001b[0m\n\u001b[0;32m----> 2\u001b[0;31m \u001b[0mprint\u001b[0m\u001b[0;34m(\u001b[0m\u001b[0ma\u001b[0m\u001b[0;34m.\u001b[0m\u001b[0msplit\u001b[0m\u001b[0;34m(\u001b[0m\u001b[0;34m\",\"\u001b[0m\u001b[0;34m)\u001b[0m\u001b[0;34m)\u001b[0m \u001b[0;31m# returns ['Hello', ' World!']\u001b[0m\u001b[0;34m\u001b[0m\u001b[0;34m\u001b[0m\u001b[0m\n\u001b[0m",
            "\u001b[0;31mTypeError\u001b[0m: int() argument must be a string, a bytes-like object or a number, not 'list'"
          ]
        }
      ]
    },
    {
      "cell_type": "markdown",
      "source": [
        "** String Concatenation**\n",
        "- Cuando se quiere unir dos variables se debe utilzar +."
      ],
      "metadata": {
        "id": "OZqOHwLsaSUU"
      }
    },
    {
      "cell_type": "code",
      "source": [
        "a = \"Bienvenidos\"\n",
        "b = \"Nuevos resilientes\"\n",
        "c = a + b\n",
        "print(c)"
      ],
      "metadata": {
        "colab": {
          "base_uri": "https://localhost:8080/",
          "height": 200
        },
        "id": "Xag4Q0XEbl4G",
        "outputId": "ecdf713b-86e7-47d9-ad87-20383994b19c"
      },
      "execution_count": null,
      "outputs": [
        {
          "output_type": "error",
          "ename": "ValueError",
          "evalue": "ignored",
          "traceback": [
            "\u001b[0;31m---------------------------------------------------------------------------\u001b[0m",
            "\u001b[0;31mValueError\u001b[0m                                Traceback (most recent call last)",
            "\u001b[0;32m<ipython-input-44-2dbbe6fc0a79>\u001b[0m in \u001b[0;36m<module>\u001b[0;34m\u001b[0m\n\u001b[1;32m      2\u001b[0m \u001b[0mb\u001b[0m \u001b[0;34m=\u001b[0m \u001b[0;34m\"Nuevos resilientes\"\u001b[0m\u001b[0;34m\u001b[0m\u001b[0;34m\u001b[0m\u001b[0m\n\u001b[1;32m      3\u001b[0m \u001b[0mc\u001b[0m \u001b[0;34m=\u001b[0m \u001b[0ma\u001b[0m \u001b[0;34m+\u001b[0m \u001b[0mb\u001b[0m\u001b[0;34m\u001b[0m\u001b[0;34m\u001b[0m\u001b[0m\n\u001b[0;32m----> 4\u001b[0;31m \u001b[0mprint\u001b[0m\u001b[0;34m(\u001b[0m\u001b[0mc\u001b[0m\u001b[0;34m)\u001b[0m\u001b[0;34m\u001b[0m\u001b[0;34m\u001b[0m\u001b[0m\n\u001b[0m",
            "\u001b[0;31mValueError\u001b[0m: invalid literal for int() with base 10: 'BienvenidosNuevos resilientes'"
          ]
        }
      ]
    },
    {
      "cell_type": "code",
      "source": [
        "# Si queres tener un espacio entre las dos variables de una manera limpia\n",
        "## segui el proximo ejemplo\n",
        "\n",
        "c = a + \" \" + b\n",
        "print(c) "
      ],
      "metadata": {
        "colab": {
          "base_uri": "https://localhost:8080/"
        },
        "id": "LQl1NfMJcZLp",
        "outputId": "c86ca4bf-1204-4067-b56d-b16133574171"
      },
      "execution_count": null,
      "outputs": [
        {
          "output_type": "stream",
          "name": "stdout",
          "text": [
            "Bienvenidos Nuevos resilientes\n"
          ]
        }
      ]
    },
    {
      "cell_type": "markdown",
      "source": [
        "** String Format**\n",
        "- No podemos combinar strings con numeros de la siguiente forma."
      ],
      "metadata": {
        "id": "FnEjSG8GfDjk"
      }
    },
    {
      "cell_type": "code",
      "source": [
        "integrates = 33\n",
        "txt = \"Somos de la comunidad resiiente, tenemos \" + integrantes\n",
        "print(txt)"
      ],
      "metadata": {
        "colab": {
          "base_uri": "https://localhost:8080/",
          "height": 200
        },
        "id": "6bJ8LGsifC_O",
        "outputId": "961babc9-f51c-45c0-feab-a4304e1ec9c5"
      },
      "execution_count": null,
      "outputs": [
        {
          "output_type": "error",
          "ename": "NameError",
          "evalue": "ignored",
          "traceback": [
            "\u001b[0;31m---------------------------------------------------------------------------\u001b[0m",
            "\u001b[0;31mNameError\u001b[0m                                 Traceback (most recent call last)",
            "\u001b[0;32m<ipython-input-45-b3c52e59c49e>\u001b[0m in \u001b[0;36m<module>\u001b[0;34m\u001b[0m\n\u001b[1;32m      1\u001b[0m \u001b[0mintegrates\u001b[0m \u001b[0;34m=\u001b[0m \u001b[0;36m33\u001b[0m\u001b[0;34m\u001b[0m\u001b[0;34m\u001b[0m\u001b[0m\n\u001b[0;32m----> 2\u001b[0;31m \u001b[0mtxt\u001b[0m \u001b[0;34m=\u001b[0m \u001b[0;34m\"Somos de la comunidad resiiente, tenemos \"\u001b[0m \u001b[0;34m+\u001b[0m \u001b[0mintegrantes\u001b[0m\u001b[0;34m\u001b[0m\u001b[0;34m\u001b[0m\u001b[0m\n\u001b[0m\u001b[1;32m      3\u001b[0m \u001b[0mprint\u001b[0m\u001b[0;34m(\u001b[0m\u001b[0mtxt\u001b[0m\u001b[0;34m)\u001b[0m\u001b[0;34m\u001b[0m\u001b[0;34m\u001b[0m\u001b[0m\n",
            "\u001b[0;31mNameError\u001b[0m: name 'integrantes' is not defined"
          ]
        }
      ]
    },
    {
      "cell_type": "markdown",
      "source": [
        "- Pero podemos combinar cadenas y números usando el format()método!\n",
        "\n",
        "- El format() método toma los argumentos pasados, les da formato y los coloca en la cadena donde {}están los marcadores de posición:"
      ],
      "metadata": {
        "id": "b2fi_0LKf8w-"
      }
    },
    {
      "cell_type": "code",
      "source": [
        "users = 100\n",
        "act_users = 33\n",
        "txt = \"Somos de la comunidad resiliente, tenemos {} personas en el discord  y contamos con {} integrantes activos \"\n",
        "print(txt.format(users , act_users ))"
      ],
      "metadata": {
        "colab": {
          "base_uri": "https://localhost:8080/",
          "height": 235
        },
        "id": "RZf9UyZFgOKt",
        "outputId": "b3961b95-c235-4b51-f3d9-f9c294a70f95"
      },
      "execution_count": null,
      "outputs": [
        {
          "output_type": "error",
          "ename": "ValueError",
          "evalue": "ignored",
          "traceback": [
            "\u001b[0;31m---------------------------------------------------------------------------\u001b[0m",
            "\u001b[0;31mValueError\u001b[0m                                Traceback (most recent call last)",
            "\u001b[0;32m<ipython-input-46-37f2bb08d2bc>\u001b[0m in \u001b[0;36m<module>\u001b[0;34m\u001b[0m\n\u001b[1;32m      2\u001b[0m \u001b[0mact_users\u001b[0m \u001b[0;34m=\u001b[0m \u001b[0;36m33\u001b[0m\u001b[0;34m\u001b[0m\u001b[0;34m\u001b[0m\u001b[0m\n\u001b[1;32m      3\u001b[0m \u001b[0mtxt\u001b[0m \u001b[0;34m=\u001b[0m \u001b[0;34m\"Somos de la comunidad resiliente, tenemos {} personas en el discord  y contamos con {} integrantes activos \"\u001b[0m\u001b[0;34m\u001b[0m\u001b[0;34m\u001b[0m\u001b[0m\n\u001b[0;32m----> 4\u001b[0;31m \u001b[0mprint\u001b[0m\u001b[0;34m(\u001b[0m\u001b[0mtxt\u001b[0m\u001b[0;34m.\u001b[0m\u001b[0mformat\u001b[0m\u001b[0;34m(\u001b[0m\u001b[0musers\u001b[0m \u001b[0;34m,\u001b[0m \u001b[0mact_users\u001b[0m \u001b[0;34m)\u001b[0m\u001b[0;34m)\u001b[0m\u001b[0;34m\u001b[0m\u001b[0;34m\u001b[0m\u001b[0m\n\u001b[0m",
            "\u001b[0;31mValueError\u001b[0m: invalid literal for int() with base 10: 'Somos de la comunidad resiliente, tenemos 100 personas en el discord  y contamos con 33 integrantes activos '"
          ]
        }
      ]
    },
    {
      "cell_type": "markdown",
      "source": [
        "- Puede usar números de índice {0}para asegurarse de que los argumentos se colocan en los marcadores de posición correctos:"
      ],
      "metadata": {
        "id": "AW7sPpQ8opf0"
      }
    },
    {
      "cell_type": "code",
      "source": [
        "quantity_users = 900    #0 \n",
        "act_users = 567         #1\n",
        "coments_per_day = 50    #2\n",
        "txt = \"Somos {0} usuarios y  comentamos {2} veces al dia , los integrantes activos son {1}.\"\n",
        "print(txt.format(quantity_users , act_users , coments_per_day))\n"
      ],
      "metadata": {
        "colab": {
          "base_uri": "https://localhost:8080/"
        },
        "id": "gGqm0sG_oxHU",
        "outputId": "9bef527f-0270-45a8-ee66-a6bace7fbae3"
      },
      "execution_count": null,
      "outputs": [
        {
          "output_type": "stream",
          "name": "stdout",
          "text": [
            "Somos 900 usuarios y  comentamos 50 veces al dia , los integrantes activos son 567.\n"
          ]
        }
      ]
    },
    {
      "cell_type": "markdown",
      "source": [
        "OTRA FORMA DE HACERLO"
      ],
      "metadata": {
        "id": "E6OzGBH3yvHx"
      }
    },
    {
      "cell_type": "code",
      "source": [
        "quantity_users = 900\n",
        "print(quantity_users)     \n",
        "act_users = 567\n",
        "print(act_users)         \n",
        "coments_per_day = 50\n",
        "print(coments_per_day)\n",
        "txt = f\" Hola somos la comunnidad resiliente, tenmos {quantity_users} de los cuales  {act_users} son usuarios activos y hacen {coments_per_day} comentarios al dia \"\n",
        "print( txt )"
      ],
      "metadata": {
        "colab": {
          "base_uri": "https://localhost:8080/"
        },
        "id": "WPZW6tjry6hc",
        "outputId": "4db207e2-83f1-43b2-9d55-c1cc113283c1"
      },
      "execution_count": null,
      "outputs": [
        {
          "output_type": "stream",
          "name": "stdout",
          "text": [
            "900\n",
            "567\n",
            "50\n",
            "v2  Hola somos la comunnidad resiliente, tenmos 900 de los cuales  567son usuarios activos y hacen 50 comentarios al dia \n"
          ]
        }
      ]
    },
    {
      "cell_type": "markdown",
      "source": [
        "** Escape Character**\n",
        "\n",
        "- Para insertar caracteres que no son válidos en una cadena, utilice un carácter de escape.\n",
        "\n",
        "- Un carácter de escape es una barra invertida \\seguida del carácter que desea insertar.\n",
        "  Un ejemplo de un carácter ilegal es una comilla doble dentro de una cadena que está entre comillas dobles:"
      ],
      "metadata": {
        "id": "HcNnWzGHvCt8"
      }
    },
    {
      "cell_type": "code",
      "source": [
        "# Obtendrá un error si usa comillas dobles dentro de una cadena que está entre comillas dobles:\n",
        "\n",
        "txt = \"We are the so-called \"Vikings\" from the north.\"\n",
        "\n",
        "# Para solucionar este problema, utilice el carácter de escape \\\":\n",
        "\n",
        "txt = \"We are the so-called \\\"Vikings\\\" from the north.\""
      ],
      "metadata": {
        "colab": {
          "base_uri": "https://localhost:8080/",
          "height": 130
        },
        "id": "QRt5uizYvSEr",
        "outputId": "c34e294c-b6b5-4785-ae0f-f73da983c891"
      },
      "execution_count": null,
      "outputs": [
        {
          "output_type": "error",
          "ename": "SyntaxError",
          "evalue": "ignored",
          "traceback": [
            "\u001b[0;36m  File \u001b[0;32m\"<ipython-input-49-b8dc598075f9>\"\u001b[0;36m, line \u001b[0;32m3\u001b[0m\n\u001b[0;31m    txt = \"We are the so-called \"Vikings\" from the north.\"\u001b[0m\n\u001b[0m                                 ^\u001b[0m\n\u001b[0;31mSyntaxError\u001b[0m\u001b[0;31m:\u001b[0m invalid syntax\n"
          ]
        }
      ]
    },
    {
      "cell_type": "markdown",
      "source": [
        "**Otros caracteres de escape** :\n",
        "\n",
        "-     Single Quote\n"
      ],
      "metadata": {
        "id": "XGDn6X6avxnX"
      }
    },
    {
      "cell_type": "code",
      "source": [
        "txt = 'I \\'s alright.'\n",
        "print(txt) "
      ],
      "metadata": {
        "id": "WT6FsmQHw4SE"
      },
      "execution_count": null,
      "outputs": []
    },
    {
      "cell_type": "markdown",
      "source": [
        "- Backslash"
      ],
      "metadata": {
        "id": "bcURbv_4xK4M"
      }
    },
    {
      "cell_type": "code",
      "source": [
        "txt = \"This will insert one \\\\ (backslash).\"\n",
        "print(txt) "
      ],
      "metadata": {
        "colab": {
          "base_uri": "https://localhost:8080/"
        },
        "id": "7qXcHS-mxXM6",
        "outputId": "3623584c-db00-4ba6-e419-19a3b5f6acfb"
      },
      "execution_count": null,
      "outputs": [
        {
          "output_type": "stream",
          "name": "stdout",
          "text": [
            "This will insert one \\ (backslash).\n"
          ]
        }
      ]
    },
    {
      "cell_type": "markdown",
      "source": [
        "- New Line"
      ],
      "metadata": {
        "id": "cnbPZ9f-xYn0"
      }
    },
    {
      "cell_type": "code",
      "source": [
        "txt = \"Hello\\nWorld!\"\n",
        "print(txt) \n"
      ],
      "metadata": {
        "colab": {
          "base_uri": "https://localhost:8080/"
        },
        "id": "r63HBfnyxdLA",
        "outputId": "0b69d6f9-1aa4-4214-b746-aff2ef5f9df0"
      },
      "execution_count": null,
      "outputs": [
        {
          "output_type": "stream",
          "name": "stdout",
          "text": [
            "Hello\n",
            "World!\n"
          ]
        }
      ]
    },
    {
      "cell_type": "markdown",
      "source": [
        "- Carriage Return"
      ],
      "metadata": {
        "id": "tXgneSCHxh3D"
      }
    },
    {
      "cell_type": "code",
      "source": [
        "txt = \"Hello\\rWorld!\"\n",
        "print(txt) "
      ],
      "metadata": {
        "colab": {
          "base_uri": "https://localhost:8080/"
        },
        "id": "wWyF2O9exlun",
        "outputId": "be1cc9bd-b84a-4bd2-80c4-40c782900143"
      },
      "execution_count": null,
      "outputs": [
        {
          "output_type": "stream",
          "name": "stdout",
          "text": [
            "Hello\rWorld!\n"
          ]
        }
      ]
    },
    {
      "cell_type": "markdown",
      "source": [
        "- Tab"
      ],
      "metadata": {
        "id": "cs3OGws4x4sC"
      }
    },
    {
      "cell_type": "code",
      "source": [
        "txt = \"Hello\\tWorld!\"\n",
        "print(txt) \n"
      ],
      "metadata": {
        "colab": {
          "base_uri": "https://localhost:8080/"
        },
        "id": "nVhpyXhkxzTb",
        "outputId": "f1001002-1427-4627-9e06-47d8904b798e"
      },
      "execution_count": null,
      "outputs": [
        {
          "output_type": "stream",
          "name": "stdout",
          "text": [
            "Hello\tWorld!\n"
          ]
        }
      ]
    },
    {
      "cell_type": "markdown",
      "source": [
        "- Backspace"
      ],
      "metadata": {
        "id": "4YXF9WqLx_3m"
      }
    },
    {
      "cell_type": "code",
      "source": [
        "txt = \"Hello\\bWorld!\"\n",
        "print(txt) \n"
      ],
      "metadata": {
        "colab": {
          "base_uri": "https://localhost:8080/"
        },
        "id": "-ySC3JjRyB8S",
        "outputId": "5fdc37e5-d687-424d-8953-cadea40bf765"
      },
      "execution_count": null,
      "outputs": [
        {
          "output_type": "stream",
          "name": "stdout",
          "text": [
            "Hello\bWorld!\n"
          ]
        }
      ]
    },
    {
      "cell_type": "markdown",
      "source": [
        "### **Boolean**\n",
        "\n",
        "● Se caracterizan por tener solo dos valores True o False y ambos deben escribirse con su primer letra en mayúscula.\n",
        "\n",
        "● En Python cualquier valor puede considerarse como booleano, siendo todos aquellos valores nulos, ceros o vacíos un False y todo lo demás que si tenga valor como un True."
      ],
      "metadata": {
        "id": "FsRxxnBWvhby"
      }
    },
    {
      "cell_type": "code",
      "source": [
        "print(type(True))  \n",
        "print(type(False)) "
      ],
      "metadata": {
        "colab": {
          "base_uri": "https://localhost:8080/"
        },
        "id": "OkPfikf6wu89",
        "outputId": "e3db5267-fbb7-4ba5-982f-fa2b1c852a87"
      },
      "execution_count": null,
      "outputs": [
        {
          "output_type": "stream",
          "name": "stdout",
          "text": [
            "<class 'bool'>\n",
            "<class 'bool'>\n"
          ]
        }
      ]
    },
    {
      "cell_type": "code",
      "source": [
        "print(bool(0)) # False\n",
        "print(bool(0.0)) # False\n",
        "print(bool(\"\")) # False\n",
        "print(bool(())) # False\n",
        "print(bool([])) # False\n",
        "print(bool({})) # False\n",
        "\n",
        "print(bool(1)) # True\n",
        "print(bool(1.0)) # True\n",
        "print(bool(\"Hola\")) # True\n",
        "print(bool((1, 2))) # True\n",
        "print(bool([3, 4])) # True\n",
        "print(bool({\"key\": \"value\"})) # True"
      ],
      "metadata": {
        "id": "_CNxL20lw1K8"
      },
      "execution_count": null,
      "outputs": []
    },
    {
      "cell_type": "markdown",
      "source": [
        "● Puede evaluar cualquier expresión en Python y obtener una de dos respuestas, **Trueo o False**.\n",
        "\n",
        "● Cuando compara dos valores, la expresión se evalúa y Python devuelve la respuesta booleana:"
      ],
      "metadata": {
        "id": "9hhT0VmnOLHW"
      }
    },
    {
      "cell_type": "code",
      "source": [
        "print(10 > 9)\n",
        "print(10 == 9)\n",
        "print(10 < 9)"
      ],
      "metadata": {
        "id": "ufcBECYfOffk"
      },
      "execution_count": null,
      "outputs": []
    },
    {
      "cell_type": "markdown",
      "source": [
        "●  Cuando ejecuta una condición en una declaración if, Python devuelve \n",
        "**Trueo o False**:"
      ],
      "metadata": {
        "id": "M71-L3GrOrPm"
      }
    },
    {
      "cell_type": "code",
      "source": [
        "a = 200\n",
        "b = 33\n",
        "\n",
        "if b > a:\n",
        "  print(\"b is greater than a\")\n",
        "else:\n",
        "  print(\"b is not greater than a\")"
      ],
      "metadata": {
        "id": "NDZtbYUIOz7-"
      },
      "execution_count": null,
      "outputs": []
    },
    {
      "cell_type": "markdown",
      "source": [
        "●  La función bool()te permite evaluar cualquier valor, y darte Trueo o False:\n"
      ],
      "metadata": {
        "id": "CtrJEdRLPDSi"
      }
    },
    {
      "cell_type": "code",
      "source": [
        "# Evaluar un string y un numero.\n",
        "\n",
        "print(bool(\"Hello\"))\n",
        "print(bool(15))"
      ],
      "metadata": {
        "id": "GBIuawUPPQso"
      },
      "execution_count": null,
      "outputs": []
    },
    {
      "cell_type": "code",
      "source": [
        "#Evaluar dos variables.\n",
        "\n",
        "x = \"Hello\"\n",
        "y = 15\n",
        "\n",
        "print(bool(x))\n",
        "print(bool(y))"
      ],
      "metadata": {
        "id": "m7zTE2zvPdZS"
      },
      "execution_count": null,
      "outputs": []
    },
    {
      "cell_type": "markdown",
      "source": [
        "● La mayoría de los valores son verdaderos: \n",
        "\n",
        "1) Casi cualquier valor se evalúa Truesi tiene algún tipo de contenido.\n",
        "\n",
        "2) Cualquier cadena es True, excepto las cadenas vacías.\n",
        "\n",
        "3) Cualquier número es True, excepto 0.\n",
        "\n",
        "4) Cualquier lista, tupla, conjunto y diccionario son True, excepto los vacíos."
      ],
      "metadata": {
        "id": "NkRSZrZyPzB5"
      }
    },
    {
      "cell_type": "code",
      "source": [
        "bool(\"abc\")\n",
        "bool(123)\n",
        "bool([\"apple\", \"cherry\", \"banana\"])\n"
      ],
      "metadata": {
        "id": "d60R_tFkQCif"
      },
      "execution_count": null,
      "outputs": []
    },
    {
      "cell_type": "markdown",
      "source": [
        "● Algunos valores son falsos:\n",
        "\n",
        "De hecho, no hay muchos valores que se evalúen como False, excepto valores vacíos, como (), [], {}, \"\", el número 0y el valor None. Y, por supuesto, el valor Falsese evalúa como False.\n",
        "\n"
      ],
      "metadata": {
        "id": "0lmUy02FQKSt"
      }
    },
    {
      "cell_type": "code",
      "source": [
        "bool(False)\n",
        "bool(None)\n",
        "bool(0)\n",
        "bool(\"\")\n",
        "bool(())\n",
        "bool([])\n",
        "bool({})"
      ],
      "metadata": {
        "id": "bkoECqwbQxWY"
      },
      "execution_count": null,
      "outputs": []
    },
    {
      "cell_type": "markdown",
      "source": [
        "● Un valor más, u objeto en este caso, se evalúa como False, y eso es si tiene un objeto que se crea a partir de una clase con una __len__función que devuelve o False:"
      ],
      "metadata": {
        "id": "AdK76W2GQy3v"
      }
    },
    {
      "cell_type": "code",
      "source": [
        "class myclass():\n",
        "  def __len__(self):\n",
        "    return 0\n",
        "\n",
        "myobj = myclass()\n",
        "print(bool(myobj))"
      ],
      "metadata": {
        "id": "Y-ID_8cxQ5-3"
      },
      "execution_count": null,
      "outputs": []
    },
    {
      "cell_type": "markdown",
      "source": [
        "● Las funciones pueden devolver un valor booleano:"
      ],
      "metadata": {
        "id": "l0q8eYL1Q99g"
      }
    },
    {
      "cell_type": "code",
      "source": [
        "def myFunction() :\n",
        "  return True\n",
        "\n",
        "\n",
        "print(myFunction())"
      ],
      "metadata": {
        "id": "rWyD5xTgREGu"
      },
      "execution_count": null,
      "outputs": []
    },
    {
      "cell_type": "markdown",
      "source": [
        "● Puede ejecutar código basado en la respuesta booleana de una función:\n",
        "\n",
        "print() \"¡SÍ!\" si la función devuelve True, de lo contrario print() \"¡NO!\""
      ],
      "metadata": {
        "id": "S0o1UEUHRVbg"
      }
    },
    {
      "cell_type": "code",
      "source": [
        "def myFunction() :\n",
        "  return True\n",
        "\n",
        "if myFunction():\n",
        "  print(\"YES!\")\n",
        "else:\n",
        "  print(\"NO!\")"
      ],
      "metadata": {
        "id": "V9wvfxexRfYC"
      },
      "execution_count": null,
      "outputs": []
    },
    {
      "cell_type": "markdown",
      "source": [
        "● Python también tiene muchas funciones integradas que devuelven un valor booleano, como la isinstance() función, que se puede usar para determinar si un objeto es de cierto tipo de datos:"
      ],
      "metadata": {
        "id": "NL7NhtTwRwRM"
      }
    },
    {
      "cell_type": "code",
      "source": [
        "x = 200\n",
        "print(isinstance(x, int))"
      ],
      "metadata": {
        "id": "0_LrBonTR0HZ"
      },
      "execution_count": null,
      "outputs": []
    },
    {
      "cell_type": "markdown",
      "source": [
        "### **Configuración del tipo de datos específico**\n",
        "\n",
        "Si desea especificar el tipo de datos, puede utilizar las siguientes funciones de construcción:\n",
        "\n"
      ],
      "metadata": {
        "id": "7uWiF91UzZ0A"
      }
    },
    {
      "cell_type": "code",
      "source": [
        "x = str(\"Hello World\")\n",
        "\n",
        "#display x:\n",
        "print(x)\n",
        "\n",
        "#display the data type of x:\n",
        "print(type(x)) "
      ],
      "metadata": {
        "id": "KS63OmoP5Ntl"
      },
      "execution_count": null,
      "outputs": []
    },
    {
      "cell_type": "code",
      "source": [
        "x = int(20)\n",
        "\n",
        "#display x:\n",
        "print(x)\n",
        "\n",
        "#display the data type of x:\n",
        "print(type(x)) "
      ],
      "metadata": {
        "id": "zo9p-Hnl5Wdv"
      },
      "execution_count": null,
      "outputs": []
    },
    {
      "cell_type": "code",
      "source": [
        "x = float(20.5)\n",
        "\n",
        "#display x:\n",
        "print(x)\n",
        "\n",
        "#display the data type of x:\n",
        "print(type(x)) \n"
      ],
      "metadata": {
        "id": "WVI5-3Rq5e8_"
      },
      "execution_count": null,
      "outputs": []
    },
    {
      "cell_type": "code",
      "source": [
        "x = complex(1j)\n",
        "\n",
        "#display x:\n",
        "print(x)\n",
        "\n",
        "#display the data type of x:\n",
        "print(type(x)) \n"
      ],
      "metadata": {
        "id": "zwP6HcuL5nyJ"
      },
      "execution_count": null,
      "outputs": []
    },
    {
      "cell_type": "code",
      "source": [
        "x = list((\"apple\", \"banana\", \"cherry\"))\n",
        "\n",
        "#display x:\n",
        "print(x)\n",
        "\n",
        "#display the data type of x:\n",
        "print(type(x)) "
      ],
      "metadata": {
        "id": "hlkSso195tqs"
      },
      "execution_count": null,
      "outputs": []
    },
    {
      "cell_type": "code",
      "source": [
        "x = range(6)\n",
        "\n",
        "#display x:\n",
        "print(x)\n",
        "\n",
        "#display the data type of x:\n",
        "print(type(x)) "
      ],
      "metadata": {
        "id": "mM4I299IIgjs"
      },
      "execution_count": null,
      "outputs": []
    },
    {
      "cell_type": "code",
      "source": [
        "x = tuple((\"apple\", \"banana\", \"cherry\"))\n",
        "\n",
        "#display x:\n",
        "print(x)\n",
        "\n",
        "#display the data type of x:\n",
        "print(type(x)) \n"
      ],
      "metadata": {
        "id": "z6dmNWbmIthl"
      },
      "execution_count": null,
      "outputs": []
    },
    {
      "cell_type": "code",
      "source": [
        "x = dict(name=\"John\", age=36)\n",
        "\n",
        "#display x:\n",
        "print(x)\n",
        "\n",
        "#display the data type of x:\n",
        "print(type(x)) \n"
      ],
      "metadata": {
        "id": "2CI6UHSmJ34q",
        "colab": {
          "base_uri": "https://localhost:8080/",
          "height": 235
        },
        "outputId": "36b148b2-d7cd-4efd-d41b-138cbd1ac185"
      },
      "execution_count": null,
      "outputs": [
        {
          "output_type": "error",
          "ename": "TypeError",
          "evalue": "ignored",
          "traceback": [
            "\u001b[0;31m---------------------------------------------------------------------------\u001b[0m",
            "\u001b[0;31mTypeError\u001b[0m                                 Traceback (most recent call last)",
            "\u001b[0;32m<ipython-input-35-2715d904b34f>\u001b[0m in \u001b[0;36m<module>\u001b[0;34m\u001b[0m\n\u001b[1;32m      2\u001b[0m \u001b[0;34m\u001b[0m\u001b[0m\n\u001b[1;32m      3\u001b[0m \u001b[0;31m#display x:\u001b[0m\u001b[0;34m\u001b[0m\u001b[0;34m\u001b[0m\u001b[0;34m\u001b[0m\u001b[0m\n\u001b[0;32m----> 4\u001b[0;31m \u001b[0mprint\u001b[0m\u001b[0;34m(\u001b[0m\u001b[0mx\u001b[0m\u001b[0;34m)\u001b[0m\u001b[0;34m\u001b[0m\u001b[0;34m\u001b[0m\u001b[0m\n\u001b[0m\u001b[1;32m      5\u001b[0m \u001b[0;34m\u001b[0m\u001b[0m\n\u001b[1;32m      6\u001b[0m \u001b[0;31m#display the data type of x:\u001b[0m\u001b[0;34m\u001b[0m\u001b[0;34m\u001b[0m\u001b[0;34m\u001b[0m\u001b[0m\n",
            "\u001b[0;31mTypeError\u001b[0m: int() argument must be a string, a bytes-like object or a number, not 'dict'"
          ]
        }
      ]
    },
    {
      "cell_type": "code",
      "source": [
        "x = set((\"apple\", \"banana\", \"cherry\"))\n",
        "\n",
        "#display x:\n",
        "print(x)\n",
        "\n",
        "#display the data type of x:\n",
        "print(type(x)) \n"
      ],
      "metadata": {
        "id": "tMMIQaUTKBEZ",
        "colab": {
          "base_uri": "https://localhost:8080/",
          "height": 235
        },
        "outputId": "20e055a6-7c97-4b8e-bb32-ba657f8d53a4"
      },
      "execution_count": null,
      "outputs": [
        {
          "output_type": "error",
          "ename": "TypeError",
          "evalue": "ignored",
          "traceback": [
            "\u001b[0;31m---------------------------------------------------------------------------\u001b[0m",
            "\u001b[0;31mTypeError\u001b[0m                                 Traceback (most recent call last)",
            "\u001b[0;32m<ipython-input-32-f5f37f34f72d>\u001b[0m in \u001b[0;36m<module>\u001b[0;34m\u001b[0m\n\u001b[1;32m      2\u001b[0m \u001b[0;34m\u001b[0m\u001b[0m\n\u001b[1;32m      3\u001b[0m \u001b[0;31m#display x:\u001b[0m\u001b[0;34m\u001b[0m\u001b[0;34m\u001b[0m\u001b[0;34m\u001b[0m\u001b[0m\n\u001b[0;32m----> 4\u001b[0;31m \u001b[0mprint\u001b[0m\u001b[0;34m(\u001b[0m\u001b[0mx\u001b[0m\u001b[0;34m)\u001b[0m\u001b[0;34m\u001b[0m\u001b[0;34m\u001b[0m\u001b[0m\n\u001b[0m\u001b[1;32m      5\u001b[0m \u001b[0;34m\u001b[0m\u001b[0m\n\u001b[1;32m      6\u001b[0m \u001b[0;31m#display the data type of x:\u001b[0m\u001b[0;34m\u001b[0m\u001b[0;34m\u001b[0m\u001b[0;34m\u001b[0m\u001b[0m\n",
            "\u001b[0;31mTypeError\u001b[0m: int() argument must be a string, a bytes-like object or a number, not 'set'"
          ]
        }
      ]
    },
    {
      "cell_type": "code",
      "source": [
        "x = frozenset({\"apple\", \"banana\", \"cherry\"})\n",
        "\n",
        "#display x:\n",
        "print(x)\n",
        "\n",
        "#display the data type of x:\n",
        "print(type(x)) "
      ],
      "metadata": {
        "id": "ZGDiVGB0KGdr",
        "colab": {
          "base_uri": "https://localhost:8080/"
        },
        "outputId": "f3b76167-ee41-4738-abdf-cbd5002ff133"
      },
      "execution_count": null,
      "outputs": [
        {
          "output_type": "stream",
          "name": "stdout",
          "text": [
            "frozenset({'apple', 'cherry', 'banana'})\n",
            "<class 'frozenset'>\n"
          ]
        }
      ]
    },
    {
      "cell_type": "code",
      "source": [
        "x = True\n",
        "\n",
        "#display x:\n",
        "print(x)\n",
        "\n",
        "#display the data type of x:\n",
        "print(type(x)) \n",
        "\n"
      ],
      "metadata": {
        "id": "EzJPgxsVKcV_"
      },
      "execution_count": null,
      "outputs": []
    },
    {
      "cell_type": "code",
      "source": [
        "x = b\"Hello\"\n",
        "\n",
        "#display x:\n",
        "print(x)\n",
        "\n",
        "#display the data type of x:\n",
        "print(type(x)) \n",
        "\n"
      ],
      "metadata": {
        "id": "QldqJEUoKlEV"
      },
      "execution_count": null,
      "outputs": []
    },
    {
      "cell_type": "code",
      "source": [
        "x = bytearray(5)\n",
        "\n",
        "#display x:\n",
        "print(x)\n",
        "\n",
        "#display the data type of x:\n",
        "print(type(x)) "
      ],
      "metadata": {
        "id": "mB55aH3EKm0-"
      },
      "execution_count": null,
      "outputs": []
    },
    {
      "cell_type": "code",
      "source": [
        "x = memoryview(bytes(5))\n",
        "\n",
        "#display x:\n",
        "print(x)\n",
        "\n",
        "#display the data type of x:\n",
        "print(type(x)) \n"
      ],
      "metadata": {
        "id": "s06TprAyKtct"
      },
      "execution_count": null,
      "outputs": []
    },
    {
      "cell_type": "code",
      "source": [
        "x = None\n",
        "\n",
        "#display x:\n",
        "print(x)\n",
        "\n",
        "#display the data type of x:\n",
        "print(type(x)) \n"
      ],
      "metadata": {
        "id": "DKRjhaRHK0gx"
      },
      "execution_count": null,
      "outputs": []
    },
    {
      "cell_type": "markdown",
      "source": [
        "## **Transformación de tipos**\n",
        "\n",
        "\n",
        "Cuando queremos transformar un valor numérico o alfabético, lo realizamos a traves de la transformación, de allí es que podemos decir que Python es un lenguaje que está Orientada a Objetos:\n",
        "\n",
        "**- int( ) :** Construye un entero literal a través de otro litera de tipo entero, un literal flotante (elimina todos los decimales y los convierte en números enteros) o una cadena ( siempre y cuando sea de tipo entero.\n",
        "\n",
        "**- float( )**: Construye un numero flotante a partir de un literal entero.\n",
        "\n",
        "**- str( )**: Construye un literal a través de una gran cantidad de tipo de datos, incluyendo cadenas de textos, enteros y flotantes.\n",
        "\n"
      ],
      "metadata": {
        "id": "FGa3ph95CWE3"
      }
    },
    {
      "cell_type": "code",
      "source": [
        "name = \"valentin\"\n",
        "print(type(name))\n",
        "name = 12\n",
        "print(type(name))"
      ],
      "metadata": {
        "colab": {
          "base_uri": "https://localhost:8080/"
        },
        "id": "S7L_tzrELoKq",
        "outputId": "cb3dd8a6-90c8-44c4-ab7b-3aaf5f5614f6"
      },
      "execution_count": null,
      "outputs": [
        {
          "output_type": "stream",
          "name": "stdout",
          "text": [
            "<class 'str'>\n",
            "<class 'int'>\n"
          ]
        }
      ]
    },
    {
      "cell_type": "markdown",
      "source": [
        "## **Operadores aritméticos**"
      ],
      "metadata": {
        "id": "aocNEIbRBYZe"
      }
    },
    {
      "cell_type": "markdown",
      "source": [
        "  **P**- paréntesis\n",
        "\n",
        "**E**- exponentes\n",
        "\n",
        "**M**- multiplicación\n",
        "\n",
        "**D**- división\n",
        "\n",
        "**A**- adición\n",
        "\n",
        "**S**- sustracción\n",
        "\n",
        "\n",
        "\n",
        "\n",
        "\n",
        "- (+) Suma \n",
        "\n",
        "- (-) Resta\n",
        "\n",
        "- (*) Multiplicación\n",
        "\n",
        "- (/) División\n",
        "\n",
        "- (%) Modulo o Residuo\n",
        "\n",
        "- (//) Division con valor entero\n",
        "\n",
        "- (**) Exponenciación "
      ],
      "metadata": {
        "id": "UoCmu0ZFBjs2"
      }
    },
    {
      "cell_type": "code",
      "source": [
        "print(10 + 10)\n",
        "print(10 - 5)\n",
        "print(10 * 2)\n",
        "print(10 / 2)\n",
        "print(10 % 2)\n",
        "print(10 // 3)\n",
        "print(2 ** 3)\n",
        "\n",
        "print(\"Hola \" + \"mundo\")\n",
        "print(\"Hola \" * 3)\n",
        "\n"
      ],
      "metadata": {
        "colab": {
          "base_uri": "https://localhost:8080/"
        },
        "id": "hKPkNX8OCPeO",
        "outputId": "473009bd-a78b-44b7-800b-d62fa9bc3d39"
      },
      "execution_count": null,
      "outputs": [
        {
          "output_type": "stream",
          "name": "stdout",
          "text": [
            "20\n",
            "5\n",
            "20\n",
            "5.0\n",
            "0\n",
            "3\n",
            "8\n",
            "Hola mundo\n",
            "Hola Hola Hola \n"
          ]
        }
      ]
    },
    {
      "cell_type": "markdown",
      "source": [
        "### **Operadores de comparación**\n",
        "\n",
        "Otro conjunto de operadores son aquellos que se aplican a dos elementos comparándolos y devuelven un resultado booleano **(True o False).**\n",
        "\n",
        "Entre estos operadores nos encontramos con \n",
        "- igualdad **(==)**\n",
        "- desigualdad **(!=)**\n",
        "- mayor que **(>)**\n",
        "- menor que **(<)**\n",
        "- mayor o igual que **(>=)**\n",
        "- menor o igual que (**<=).**\n",
        "\n"
      ],
      "metadata": {
        "id": "w2A1Bqmulg6S"
      }
    },
    {
      "cell_type": "code",
      "source": [
        "# Igualdad\n",
        "\n",
        "x = 5\n",
        "y = 3\n",
        "\n",
        "print(x == y)"
      ],
      "metadata": {
        "colab": {
          "base_uri": "https://localhost:8080/"
        },
        "id": "KZ2nAfhWnlae",
        "outputId": "d5218d12-204f-4371-f352-fa33d39224de"
      },
      "execution_count": null,
      "outputs": [
        {
          "output_type": "stream",
          "name": "stdout",
          "text": [
            "False\n"
          ]
        }
      ]
    },
    {
      "cell_type": "code",
      "source": [
        "# Desigualdad\n",
        "\n",
        "x = 5\n",
        "y = 3\n",
        "\n",
        "print(x != y)\n"
      ],
      "metadata": {
        "colab": {
          "base_uri": "https://localhost:8080/"
        },
        "id": "gfLjzcvZns9f",
        "outputId": "d9fb3721-76de-4cec-a976-e43f1858b287"
      },
      "execution_count": null,
      "outputs": [
        {
          "output_type": "stream",
          "name": "stdout",
          "text": [
            "True\n"
          ]
        }
      ]
    },
    {
      "cell_type": "code",
      "source": [
        "\n",
        "# Mayor que \n",
        "x = 5\n",
        "y = 3\n",
        "\n",
        "print(x > y)"
      ],
      "metadata": {
        "colab": {
          "base_uri": "https://localhost:8080/"
        },
        "id": "CEbXZAM0n6QO",
        "outputId": "0686aecb-d8e1-4a92-c1cb-dcba2a767997"
      },
      "execution_count": null,
      "outputs": [
        {
          "output_type": "stream",
          "name": "stdout",
          "text": [
            "True\n"
          ]
        }
      ]
    },
    {
      "cell_type": "code",
      "source": [
        "# Menor que \n",
        "\n",
        "x = 5\n",
        "y = 3\n",
        "\n",
        "print(x < y)"
      ],
      "metadata": {
        "colab": {
          "base_uri": "https://localhost:8080/"
        },
        "id": "VAHjXItxoDsZ",
        "outputId": "10891292-62fa-480d-deba-0aad8954a967"
      },
      "execution_count": null,
      "outputs": [
        {
          "output_type": "stream",
          "name": "stdout",
          "text": [
            "False\n"
          ]
        }
      ]
    },
    {
      "cell_type": "code",
      "source": [
        "# Menor o igual que \n",
        "\n",
        "x = 5\n",
        "y = 3\n",
        "\n",
        "print(x <= y)"
      ],
      "metadata": {
        "colab": {
          "base_uri": "https://localhost:8080/"
        },
        "id": "WuIvDJfxoQ7j",
        "outputId": "d0503fa3-d2eb-41e8-97f0-996494e454a6"
      },
      "execution_count": null,
      "outputs": [
        {
          "output_type": "stream",
          "name": "stdout",
          "text": [
            "False\n"
          ]
        }
      ]
    },
    {
      "cell_type": "code",
      "source": [
        "# Mayor o igual que \n",
        "\n",
        "x = 5\n",
        "y = 3\n",
        "\n",
        "print(x >= y)"
      ],
      "metadata": {
        "colab": {
          "base_uri": "https://localhost:8080/"
        },
        "id": "qLnOXyDQn_0_",
        "outputId": "00e504c0-b48c-488e-ba8c-6224912e8c08"
      },
      "execution_count": null,
      "outputs": [
        {
          "output_type": "stream",
          "name": "stdout",
          "text": [
            "True\n"
          ]
        }
      ]
    },
    {
      "cell_type": "markdown",
      "source": [
        "### **Operadores logicos**\n",
        "\n",
        "Los operadores lógicos o logical operators nos permiten trabajar con valores de tipo booleano.\n",
        "\n",
        "Se utiliza un operador lógico para tomar una decisión basada en múltiples condiciones. \n",
        "\n",
        "Los operadores lógicos utilizados en Python son \n",
        "- **and** : Devuelve True si ambos elementos son True (True and True = True).\n",
        "- **or** :  Devuelve True si al menos un elemento es True(True or False = True).\n",
        "\n",
        "- **not** : Devuelve el contrario, True si es Falso y viceversa(\tnot True = False). Simplemente invierte True por False y False por True. También puedes usar varios not juntos y simplemente se irán aplicando uno tras otro. La verdad que es algo difícil de ver en la realidad, pero simplemente puedes contar el número de not y si es par el valor se quedará igual. Si por lo contrario es impar, el valor se invertirá.\n",
        "\n"
      ],
      "metadata": {
        "id": "f-ulSHk6ogz3"
      }
    },
    {
      "cell_type": "code",
      "source": [
        "# AND\n",
        "\n",
        "x = 5\n",
        "\n",
        "print(x > 3 and x < 10)"
      ],
      "metadata": {
        "colab": {
          "base_uri": "https://localhost:8080/"
        },
        "id": "QyzGLAa3uHQT",
        "outputId": "fc2c1fa2-51de-4a0c-99c2-d863471ac80e"
      },
      "execution_count": null,
      "outputs": [
        {
          "output_type": "stream",
          "name": "stdout",
          "text": [
            "True\n"
          ]
        }
      ]
    },
    {
      "cell_type": "code",
      "source": [
        "print(\"AND\")\n",
        "print(\"True and True =>\" ,   True and True)\n",
        "print(\"True and False =>\" ,  True and False)\n",
        "print(\"False and True =>\" ,  False and True)\n",
        "print(\"False and False =>\" , False and False)"
      ],
      "metadata": {
        "colab": {
          "base_uri": "https://localhost:8080/"
        },
        "id": "QUoEYlBmKOnn",
        "outputId": "b3ad28c0-6273-41cf-fc6e-f85cf881933b"
      },
      "execution_count": null,
      "outputs": [
        {
          "output_type": "stream",
          "name": "stdout",
          "text": [
            "AND\n",
            "True and True => True\n",
            "True and False => False\n",
            "False and True => False\n",
            "False and False => False\n"
          ]
        }
      ]
    },
    {
      "cell_type": "code",
      "source": [
        "stock = input(\" Ingrese el num de stock =>\")\n",
        "stock = int(stock)\n",
        "print( stock >= 100 and stock <= 1000) "
      ],
      "metadata": {
        "colab": {
          "base_uri": "https://localhost:8080/"
        },
        "id": "7KP96_-eLgLZ",
        "outputId": "a14ee700-0735-4546-d9a7-38e4467b5388"
      },
      "execution_count": null,
      "outputs": [
        {
          "output_type": "stream",
          "name": "stdout",
          "text": [
            " Ingrese el num de stock =>199\n",
            "True\n"
          ]
        }
      ]
    },
    {
      "cell_type": "code",
      "source": [
        "# OR\n",
        "\n",
        "print(\"OR\")\n",
        "print(\"True  or True =>\" ,   True or True)\n",
        "print(\"True  or False =>\" ,  True or False)\n",
        "print(\"False or True =>\" ,  False or True)\n",
        "print(\"False or False =>\" , False or False)\n",
        "\n",
        "\n",
        "x = 5\n",
        "\n",
        "print(x > 3 or x < 4)"
      ],
      "metadata": {
        "colab": {
          "base_uri": "https://localhost:8080/"
        },
        "id": "NxGd4jBDuLDD",
        "outputId": "86d54370-30a3-4e3a-bfc3-e5dd7cc47ebe"
      },
      "execution_count": null,
      "outputs": [
        {
          "output_type": "stream",
          "name": "stdout",
          "text": [
            "OR\n",
            "True  or True => True\n",
            "True  or False => True\n",
            "False or True => True\n",
            "False or False => False\n",
            "True\n"
          ]
        }
      ]
    },
    {
      "cell_type": "code",
      "source": [
        "role =  input(\"Esciba el rol =>\")\n",
        "\n",
        "print( role == \"adm\" or role == \"seler\" )"
      ],
      "metadata": {
        "colab": {
          "base_uri": "https://localhost:8080/"
        },
        "id": "6ZC4o-uXM9ej",
        "outputId": "227b20eb-d35d-4d9d-d4b9-71222f778db0"
      },
      "execution_count": null,
      "outputs": [
        {
          "output_type": "stream",
          "name": "stdout",
          "text": [
            "Esciba el rol =>adm\n",
            "True\n"
          ]
        }
      ]
    },
    {
      "cell_type": "code",
      "source": [
        "# NOT\n",
        "\n",
        "print(\"NOT\")\n",
        "print(\"not True =>\" ,   not True)\n",
        "print (\"not False =>\" ,  not False)\n",
        "\n",
        "\n",
        "print(\"True and True =>\" ,   not (True and True))\n",
        "print(\"True and False =>\" ,  not (True and False))\n",
        "print(\"False and True =>\" ,  not (False and True))\n",
        "print(\"False and False =>\" , not (False and False))\n",
        "\n",
        "\n",
        "x = 5\n",
        "\n",
        "print(not(x > 3 and x < 10))"
      ],
      "metadata": {
        "id": "LWU7RAMuubyE",
        "colab": {
          "base_uri": "https://localhost:8080/"
        },
        "outputId": "6e010a94-fa89-42b3-9cad-994b0123ed77"
      },
      "execution_count": null,
      "outputs": [
        {
          "output_type": "stream",
          "name": "stdout",
          "text": [
            "NOT\n",
            "not True => False\n",
            "not False => True\n",
            "True and True => False\n",
            "True and False => True\n",
            "False and True => True\n",
            "False and False => True\n",
            "False\n"
          ]
        }
      ]
    },
    {
      "cell_type": "code",
      "source": [
        "stock = input(\" Ingrese el num de stock =>\")\n",
        "stock = int(stock)\n",
        "print(not( stock >= 100 and stock <= 1000))"
      ],
      "metadata": {
        "colab": {
          "base_uri": "https://localhost:8080/"
        },
        "id": "WhPnFkv5KNAX",
        "outputId": "b4fe3d3a-3708-47bc-9d82-c7e43a9ce442"
      },
      "execution_count": null,
      "outputs": [
        {
          "output_type": "stream",
          "name": "stdout",
          "text": [
            " Ingrese el num de stock =>13\n",
            "True\n"
          ]
        }
      ]
    },
    {
      "cell_type": "markdown",
      "source": [
        "**OTROS EJEMPLOS**\n",
        "\n",
        "Antes de entrar con los ejemplos, es importante notar que el orden de aplicación de los operadores puede influir en el resultado, por lo que es importante tener muy claro su prioridad de aplicación. De mayor a menor prioridad, el primer sería not, seguido de and y or."
      ],
      "metadata": {
        "id": "S6EZ_h-vvt77"
      }
    },
    {
      "cell_type": "markdown",
      "source": [
        "En el ejemplo que se muestra a continuación, habría dos posibilidades. La primera sería (False and False) or True cuyo resultado sería True y la segunda False and (False or True) cuyo resultado sería False. Dado que el resultado que Python da es True, podemos concluir que el equivalente es la primera opción, es decir que and tiene prioridad sobre el or"
      ],
      "metadata": {
        "id": "yhS97iVqv-pD"
      }
    },
    {
      "cell_type": "code",
      "source": [
        "print(False and False or True)"
      ],
      "metadata": {
        "colab": {
          "base_uri": "https://localhost:8080/"
        },
        "id": "GptvpHM-wDua",
        "outputId": "31b055b9-04c1-4944-d04c-8e986f65ce30"
      },
      "execution_count": null,
      "outputs": [
        {
          "output_type": "stream",
          "name": "stdout",
          "text": [
            "True\n"
          ]
        }
      ]
    },
    {
      "cell_type": "markdown",
      "source": [
        "Lo mismo con el siguiente ejemplo. Como ya sabemos de antes que and es evaluado primero, la siguiente expresión sería en realidad equivalente a True or (False and False) por lo que su resultado es True"
      ],
      "metadata": {
        "id": "nrSXFcLpwJmZ"
      }
    },
    {
      "cell_type": "code",
      "source": [
        "print(True or False and False)"
      ],
      "metadata": {
        "colab": {
          "base_uri": "https://localhost:8080/"
        },
        "id": "WWQ3eEvqwOIC",
        "outputId": "243f461d-1ec9-4a31-f97c-5a80dc02357b"
      },
      "execution_count": null,
      "outputs": [
        {
          "output_type": "stream",
          "name": "stdout",
          "text": [
            "True\n"
          ]
        }
      ]
    },
    {
      "cell_type": "markdown",
      "source": [
        "Como ya hemos indicado anteriormente, se puede usar 0 y 1 para representar False y True respectivamente. Veamos a usar esa representación para abreviar. Podemos simplificar la siguiente expresión, ya que el not es el operador que primer se aplica. Por lo tanto nos quedaría 0 and 0 or 1 and 1 or 1 and 0. Y como ya sabemos, después se aplica el and, por lo que nos quedaría (0 and 0) or (1 and 1) or (1 and 0). Y ya nos quedaría sólo aplicar el or de la expresión resultante 0 or 1 or 1, por lo que el resultando final es 1 o True."
      ],
      "metadata": {
        "id": "-a6BsAv3wcZ7"
      }
    },
    {
      "cell_type": "code",
      "source": [
        "print(0 and not 1 or 1 and not 0 or 1 and 0)"
      ],
      "metadata": {
        "colab": {
          "base_uri": "https://localhost:8080/"
        },
        "id": "3ntbx_ZFwdA3",
        "outputId": "c3199d30-6d2f-4290-f960-7c222a6e6603"
      },
      "execution_count": null,
      "outputs": [
        {
          "output_type": "stream",
          "name": "stdout",
          "text": [
            "True\n"
          ]
        }
      ]
    },
    {
      "cell_type": "markdown",
      "source": [
        "### **Operadores de Identidad**\n",
        "\n",
        "Un operador de identidad se emplea para comprobar si dos variables emplean la misma ubicación en memoria.\n",
        "\n",
        "**is** y **is not** son operadores de identidad.\n",
        "\n",
        "**is** devuelve True si los operandos se refieren al mismo objeto. En caso contrario devuelve False.\n",
        "\n",
        "**is not** devuelve True si los operandos no se refieren al mismo objeto. En caso contrario devuelve False.\n",
        "\n",
        "Ten en cuenta que dos valores, cuando son iguales, no implica necesariamente que sean idénticos."
      ],
      "metadata": {
        "id": "ccceEUs1wmBQ"
      }
    },
    {
      "cell_type": "code",
      "source": [
        "a = 3\n",
        "b = 3  \n",
        "c = 4\n",
        "print(a is b) # muestra True\n",
        "print(a is not b) # muestra False\n",
        "print(a is not c) # muestra True\n",
        "\n",
        "\n",
        "\n",
        "x = [\"apple\", \"banana\"]\n",
        "y = [\"apple\", \"banana\"]\n",
        "z = x\n",
        "\n",
        "print(x is z)\n",
        "\n",
        "print(x is y)\n",
        "\n",
        "print(x == y)\n",
        "\n",
        "\n",
        "\n"
      ],
      "metadata": {
        "colab": {
          "base_uri": "https://localhost:8080/"
        },
        "id": "hvk3Keap2ESd",
        "outputId": "d5a17bf8-96a1-4729-c579-cc1ec033707e"
      },
      "execution_count": null,
      "outputs": [
        {
          "output_type": "stream",
          "name": "stdout",
          "text": [
            "True\n",
            "False\n",
            "True\n",
            "True\n",
            "False\n",
            "True\n"
          ]
        }
      ]
    },
    {
      "cell_type": "markdown",
      "source": [
        "### **Operadores de  Pertenencia**\n",
        "\n",
        "Un operador de pertenencia se emplea para identificar pertenencia en alguna secuencia (listas, strings, tuplas).\n",
        "\n",
        "**in** y **not in** son operadores de pertenencia.\n",
        "\n",
        "**in:** devuelve True si el valor especificado se encuentra en la secuencia. En caso contrario devuelve False.\n",
        "\n",
        "**not in** :devuelve True si el valor especificado no se encuentra en la secuencia. En caso contrario devuelve False.\n",
        "\n"
      ],
      "metadata": {
        "id": "dD8b4gFs1i8t"
      }
    },
    {
      "cell_type": "code",
      "source": [
        "# IN \n",
        "x = [\"apple\", \"banana\"]\n",
        "\n",
        "print(\"banana\" in x)"
      ],
      "metadata": {
        "id": "qE8yCAWA_l81"
      },
      "execution_count": null,
      "outputs": []
    },
    {
      "cell_type": "code",
      "source": [
        "# NOT IN  \n",
        "\n",
        "x = [\"apple\", \"banana\"]\n",
        "\n",
        "print(\"pineapple\" not in x)"
      ],
      "metadata": {
        "id": "6E4Ra4pE_p2D"
      },
      "execution_count": null,
      "outputs": []
    },
    {
      "cell_type": "code",
      "source": [
        "a = [1,2,3,4,5]\n",
        "  \n",
        "#Esta 3 en la lista a?\n",
        "print(3 in a) # Muestra True \n",
        "  \n",
        "#No está 12 en la lista a?\n",
        "print(12 not in a) # Muestra True\n",
        "  \n",
        "str = \"Hello World\"\n",
        "  \n",
        "#Contiene World el string str?\n",
        "print(\"World\" in str) # Muestra True\n",
        "  \n",
        "#Contiene world el string str? (nota: distingue mayúsculas y minúsculas)\n",
        "print(\"world\" in str) # Muestra False  \n",
        "\n",
        "print(\"code\" not in str) # Muestra True"
      ],
      "metadata": {
        "colab": {
          "base_uri": "https://localhost:8080/"
        },
        "id": "9YDVHWSQAb9C",
        "outputId": "f9038c0e-f84e-4adb-e792-6dec296b7b4d"
      },
      "execution_count": null,
      "outputs": [
        {
          "output_type": "stream",
          "name": "stdout",
          "text": [
            "True\n",
            "True\n",
            "True\n",
            "False\n",
            "True\n"
          ]
        }
      ]
    },
    {
      "cell_type": "markdown",
      "source": [
        "### **Operadores Bit a Bit**\n",
        "\n",
        "Los operadores bit a bit se utilizan para comparar números (binarios):\n",
        "\n",
        "**& AND** Establece cada bit en 1 si ambos bits son 1 x & y. &\tRealiza bit a bit la operación AND en los operandos\ta & b = 2 (Binario: 10 & 11 = 10)\n",
        "\n",
        "**| OR** Establece cada bit en 1 si uno de los dos bits es 1 x | y. |\tRealiza bit a bit la operación OR en los operandos\ta | b = 3 (Binario: 10 | 11 = 11)\n",
        "\n",
        "**^ XOR** Establece cada bit en 1 si solo uno de los dos bits es 1 x ^ y. ^\tRealiza bit a bit la operación XOR en los operandos\ta ^ b = 1 (Binario: 10 ^ 11 = 01)\n",
        "\n",
        "**~ NOT** Invierte todos los bits ~x. ~\tRealiza bit a bit la operación NOT bit a bit. Invierte cada bit en el operando\t~a = -3 (Binario: ~(00000010) = (11111101))\n",
        "\n",
        "**<<** Rellenar con ceros Desplazamiento a la izquierda Desplace a la izquierda empujando ceros desde la derecha y deje que los bits más a la izquierda caigan x << 2. <<\tRealiza un desplazamiento a la izquierda bit a bit. Desplaza los bits del operando de la izquierda a la izquierda tantos bits como especifique el operador de la derecha\ta << b = 16 (Binario: 00000010 << 00000011 = 00001000)\n",
        "\n",
        "\n",
        "**>>** Desplazamiento a la derecha con signo Desplace a la derecha empujando copias del bit más a la izquierda desde la izquierda, y deje que los bits más a la derecha caigan x >> 2. >>\tRealiza un desplazamiento a la derecha bit a bit. Desplaza los bits del operador de la izquierda a la derecha tantos bits como indica el operador de la derecha\ta >> b = 0 (Binario: 00000010 >> 00000011 = 0)\n",
        "\n",
        "\n",
        "\n",
        "\n",
        "\n",
        "\n",
        "\n",
        "\n",
        "**NUMEROS DECIMALES EN VALORES BINARIOS:**\n",
        "\n",
        "0 = 0000000000000000\n",
        "\n",
        "1 = 0000000000000001\n",
        "\n",
        "2 = 0000000000000010\n",
        "\n",
        "3 = 0000000000000011\n",
        "\n",
        "4 = 0000000000000100\n",
        "\n",
        "5 = 0000000000000101\n",
        "\n",
        "6 = 0000000000000110\n",
        "\n",
        "7 = 0000000000000111"
      ],
      "metadata": {
        "id": "NAiTWYP1AwbM"
      }
    },
    {
      "cell_type": "code",
      "source": [
        "# &\n",
        "\n",
        "print(6 & 3)"
      ],
      "metadata": {
        "colab": {
          "base_uri": "https://localhost:8080/"
        },
        "id": "twFysEZ0Ic_j",
        "outputId": "3ab7f877-698a-4363-f87c-97e92945e6aa"
      },
      "execution_count": null,
      "outputs": [
        {
          "output_type": "stream",
          "name": "stdout",
          "text": [
            "2\n"
          ]
        }
      ]
    },
    {
      "cell_type": "code",
      "source": [
        "# |\n",
        "\n",
        "print(6 | 3)\n"
      ],
      "metadata": {
        "colab": {
          "base_uri": "https://localhost:8080/"
        },
        "id": "QjKHCP2dIj9E",
        "outputId": "418e7f6d-1525-427c-bf2e-507277cd200f"
      },
      "execution_count": null,
      "outputs": [
        {
          "output_type": "stream",
          "name": "stdout",
          "text": [
            "7\n"
          ]
        }
      ]
    },
    {
      "cell_type": "code",
      "source": [
        "# ^\n",
        "\n",
        "print(6 ^ 3)"
      ],
      "metadata": {
        "id": "fOS3XzHNIuoj"
      },
      "execution_count": null,
      "outputs": []
    },
    {
      "cell_type": "code",
      "source": [
        "# ~\n",
        "\n",
        "print(~1)"
      ],
      "metadata": {
        "colab": {
          "base_uri": "https://localhost:8080/"
        },
        "id": "tcUhMyj0I-at",
        "outputId": "49d80e9d-8b69-41df-f279-b28caf55974a"
      },
      "execution_count": null,
      "outputs": [
        {
          "output_type": "stream",
          "name": "stdout",
          "text": [
            "-2\n"
          ]
        }
      ]
    },
    {
      "cell_type": "code",
      "source": [
        "# <<\n",
        "\n",
        "print(3 << 6)"
      ],
      "metadata": {
        "colab": {
          "base_uri": "https://localhost:8080/"
        },
        "id": "HgHE7NFfJK20",
        "outputId": "bae1d15c-31fb-4b74-b5c3-fc6c4fd5428b"
      },
      "execution_count": null,
      "outputs": [
        {
          "output_type": "stream",
          "name": "stdout",
          "text": [
            "192\n"
          ]
        }
      ]
    },
    {
      "cell_type": "code",
      "source": [
        " # >>\n",
        "\n",
        "print(20 >> 5)"
      ],
      "metadata": {
        "colab": {
          "base_uri": "https://localhost:8080/"
        },
        "id": "_x_qqRShJjR0",
        "outputId": "2a6d427c-817e-49f7-cfd3-6a05dec1dab4"
      },
      "execution_count": null,
      "outputs": [
        {
          "output_type": "stream",
          "name": "stdout",
          "text": [
            "0\n"
          ]
        }
      ]
    },
    {
      "cell_type": "markdown",
      "source": [
        "### **Operadores Condicionales**\n",
        "\n",
        "\n",
        "Python admite las condiciones lógicas habituales de las matemáticas:\n",
        "\n",
        "- Igual: a == b\n",
        "\n",
        "- No es igual a: a != b\n",
        "\n",
        "- Menor que: a < b\n",
        "\n",
        "- Menor o igual que: a <= b\n",
        "\n",
        "- Mayor que: a > b\n",
        "\n",
        "- Mayor o igual que: a >= b"
      ],
      "metadata": {
        "id": "2cV4h8FsPedX"
      }
    },
    {
      "cell_type": "code",
      "source": [
        "#IF\n",
        "print(\"IF\")\n",
        "a = 33\n",
        "b = 200\n",
        "if b > a:\n",
        " print(\"b es mayor que  a\")"
      ],
      "metadata": {
        "colab": {
          "base_uri": "https://localhost:8080/"
        },
        "id": "oJVI1T_2Skpc",
        "outputId": "87fd9223-e249-4f59-abff-71a3bfe59db3"
      },
      "execution_count": null,
      "outputs": [
        {
          "output_type": "stream",
          "name": "stdout",
          "text": [
            "IF\n",
            "b es mayor que  a\n"
          ]
        }
      ]
    },
    {
      "cell_type": "code",
      "source": [
        "crypto_comunidad = input(\" cual es tu comunidad crypto favorita en arg?\")\n",
        "if crypto_comunidad == \"resiliente\":\n",
        "  print(\"conoces spezard?\")\n",
        "\n",
        "if crypto_comunidad == \"solow\" :\n",
        "  print(\"te gustan los memes\")"
      ],
      "metadata": {
        "colab": {
          "base_uri": "https://localhost:8080/"
        },
        "id": "63B2suaMZApz",
        "outputId": "840f3e47-4aac-4fd3-e0db-f9d9dfd07554"
      },
      "execution_count": null,
      "outputs": [
        {
          "output_type": "stream",
          "name": "stdout",
          "text": [
            " cual es tu comunidad crypto favorita en arg?solow\n",
            "te gustan los memes\n"
          ]
        }
      ]
    },
    {
      "cell_type": "markdown",
      "source": [
        "La palabra clave **elif** es la forma en que Python dice \"si las condiciones anteriores no fueron ciertas, intente con esta condición\".\n",
        "\n",
        "En este ejemplo, a es igual a b, por lo que la primera condición no es verdadera, pero la condición elif es verdadera, por lo que imprimimos en la pantalla que \"a y b son iguales\"."
      ],
      "metadata": {
        "id": "7m8oScsganBT"
      }
    },
    {
      "cell_type": "code",
      "source": [
        "a = 33\n",
        "b = 33\n",
        "if b > a:\n",
        "  print(\"b es mas grande que a\")\n",
        "elif a == b:\n",
        "  print(\"a y b son iguales\")"
      ],
      "metadata": {
        "colab": {
          "base_uri": "https://localhost:8080/"
        },
        "id": "35GYKV9zaqD8",
        "outputId": "6860112a-0dde-4aa0-9eb3-5c423e5f5c0f"
      },
      "execution_count": null,
      "outputs": [
        {
          "output_type": "stream",
          "name": "stdout",
          "text": [
            "a y b son iguales\n"
          ]
        }
      ]
    },
    {
      "cell_type": "markdown",
      "source": [
        "La palabra clave **else** captura cualquier cosa que no esté capturada por las condiciones anteriores.\n",
        "\n",
        "En este ejemplo, a es mayor que b, por lo que la primera condición no es verdadera, tampoco la condición elif es verdadera, así que vamos a la condición else e imprimimos en la pantalla que \"a es mayor que b\"."
      ],
      "metadata": {
        "id": "M_UvDfp8se7w"
      }
    },
    {
      "cell_type": "code",
      "source": [
        "a = 200\n",
        "b = 33\n",
        "if b > a:\n",
        "  print(\"b es mayor que  a\")\n",
        "elif a == b:\n",
        "  print(\"a  y b son iguales\")\n",
        "else:\n",
        "  print(\"a es mayor que  b\")"
      ],
      "metadata": {
        "id": "t9fdbvtZsuSV"
      },
      "execution_count": null,
      "outputs": []
    },
    {
      "cell_type": "markdown",
      "source": [
        "\n",
        "También puedes tener un **else** sin **elif**:"
      ],
      "metadata": {
        "id": "sL1dwswis_V3"
      }
    },
    {
      "cell_type": "code",
      "source": [
        "a = 200\n",
        "b = 33\n",
        "if b > a:\n",
        "  print(\"b es mayor que a\")\n",
        "else:\n",
        "  print(\"b no es mayor que  a\")"
      ],
      "metadata": {
        "colab": {
          "base_uri": "https://localhost:8080/"
        },
        "id": "vOkVpRF7tLtt",
        "outputId": "8f5cdd51-ed8a-4001-aed8-26fa6ffed0b2"
      },
      "execution_count": null,
      "outputs": [
        {
          "output_type": "stream",
          "name": "stdout",
          "text": [
            "b no es mayor que  a\n"
          ]
        }
      ]
    },
    {
      "cell_type": "markdown",
      "source": [
        "### **Proyecto condicionales - Piedra, papel o tijera** \n",
        "\n",
        "Reglas:\n",
        "\n",
        "- Tijera corta papel \n",
        "\n",
        "- Papel cubre piedra\n",
        "\n",
        "- Piedra rompe tijeras"
      ],
      "metadata": {
        "id": "-1MXRwppxBVY"
      }
    },
    {
      "cell_type": "code",
      "source": [
        "import random\n",
        "print(\"Bienvenidos a Piedra, Papel o Tijeras\")\n",
        "\n",
        "user_name = input(\"Cual es tu nombre?:\")\n",
        "user_option = input(\"Elgie  Piedra Papel o Tijera.=>\")\n",
        "computer_option = random.choice([\"Piedra\", \"papel\", \"tijera\"])\n",
        "\n",
        "if user_option == \"piedra\" and computer_option == \"tijera\":\n",
        "    print(\"ganaste!: piedra rompe a tijera\")\n",
        "\n",
        "elif user_option == \"papel\" and computer_option == \"piedra\":\n",
        "    print(\"ganaste!: papel cubre a piedra\")\n",
        "\n",
        "elif user_option == \"tijera\" and computer_option == \"papel\":\n",
        "    print(\"ganaste!: tijera corta a papel\")\n",
        "\n",
        "elif user_option == computer_option:\n",
        "    print(f\"Es un empate, ya que {user_option} es igual a {computer_option}\")\n",
        "    \n",
        "else:\n",
        "    print(f\"Lo siento, perdiste, {computer_option} le gana a {user_option}\")\n",
        "\n",
        "\n",
        "\n"
      ],
      "metadata": {
        "id": "w12zGjPYxWHo"
      },
      "execution_count": null,
      "outputs": []
    },
    {
      "cell_type": "markdown",
      "source": [
        "### **Proyecto condicionales - Juego Sheldon Cooper** \n",
        "\n",
        "  Bienvenidos a \"Piedra, papel, tijera, lagarto, Spock\"\n",
        "🥌 📋 ✂ 🦎 🖖\n",
        "      Reglas:\n",
        "      \n",
        "       *Tijeras cortan papel \n",
        "       *Papel cubre piedra \n",
        "       *Piedra aplasta lagarto \n",
        "       *Lagarto envenena a Spock \n",
        "       *Spock rompe tijeras \n",
        "       *Tijeras decapitan lagarto \n",
        "       *Lagarto devora papel \n",
        "       *El papel desautoriza a Spock\n",
        "       *Spock vaporiza piedra\n",
        "       *Y como siempre, piedra rompe tijera \n",
        "      "
      ],
      "metadata": {
        "id": "8iNkzmU4tbZw"
      }
    },
    {
      "cell_type": "code",
      "source": [
        "import random\n",
        "\n",
        "print(\"Bienvenidos al juego creado por Sheldon Cooper\")\n",
        "\n",
        "user_name = input(\"Cual es tu nombre?:\")\n",
        "\n",
        "\n",
        "user_option = input(\"Piedra, papel, tijera, lagarto, Spock?: \")\n",
        "\n",
        "computer_option = random.choice([\"Piedra\", \"papel\", \"tijera\", \"lagarto\", \"Spock\"])\n",
        "\n",
        "\n",
        "if user_option == \"piedra\" and computer_option == \"tijera\":\n",
        "    print(\"ganaste!: piedra rompe a tijera\")\n",
        "    \n",
        "elif user_option == \"papel\" and computer_option == \"piedra\":\n",
        "    print(\"ganaste!: papel cubre a piedra\")\n",
        "    \n",
        "elif user_option == \"tijera\" and computer_option == \"papel\":\n",
        "    print(\"ganaste!: tijera corta a papel\")\n",
        "\n",
        "elif user_option == \"piedra\" and computer_option == \"lagarto\":\n",
        "    print(\"ganaste!: piedra aplasta a lagarto\")\n",
        "\n",
        "elif user_option == \"lagarto\" and computer_option == \"spock\":\n",
        "    print(\"ganaste!: lagarto aplasta a spock\")\n",
        "\n",
        "elif user_option == \"spock\" and computer_option == \"tijeras\":\n",
        "    print(\"ganaste!: spock rompe tijeras\")\n",
        "\n",
        "elif user_option == \"tijeras\" and computer_option == \"lagarto\":\n",
        "    print(\"ganaste!: tijeras decapita a lagarto\")\n",
        "\n",
        "elif user_option == \"lagarto\" and computer_option == \"papel\":\n",
        "    print(\"ganaste!: lagarto devora a papel\")\n",
        "\n",
        "elif user_option == \"papel\" and computer_option == \"spock\":\n",
        "    print(\"ganaste!: papel desautoriza a spock\")\n",
        "\n",
        "elif user_option == \"piedra\" and computer_option == \"lagarto\":\n",
        "    print(\"ganaste!: piedra aplasta a lagarto\")\n",
        "\n",
        "elif user_option == \"spock\" and computer_option == \"piedra\":\n",
        "    print(\"ganaste!: spock vaporiza a piedra\")\n",
        "\n",
        "\n",
        "\n",
        "\n",
        "\n",
        "\n",
        "elif user_option == computer_option:\n",
        "    print(f\"Es un empate, ya que {user_option} es igual a {computer_option}\")\n",
        "    \n",
        "else:\n",
        "    print(f\"Lo siento, perdiste, {computer_option} le gana a {user_option}\")"
      ],
      "metadata": {
        "colab": {
          "base_uri": "https://localhost:8080/"
        },
        "id": "6BrLdo7ctozT",
        "outputId": "3e8ecf98-9ba1-4fac-a45e-0364f57269bb"
      },
      "execution_count": null,
      "outputs": [
        {
          "output_type": "stream",
          "name": "stdout",
          "text": [
            "Bienvenidos al juego creado por Sheldon Cooper\n",
            "Cual es tu nombre?:Santi\n",
            "Piedra, papel, tijera, lagarto, Spock?: lagarto\n",
            "Lo siento, perdiste, tijera le gana a lagarto\n"
          ]
        }
      ]
    },
    {
      "cell_type": "markdown",
      "source": [
        "### **Dilema del prisionero - El marginal**\n",
        "El dilema del prisionero es un problema de la teoría de juegos. El dilema del prisionero analiza los incentivos que tienen dos sospechosos de un crimen para delatar a su compañero o proclamar su inocencia.\n",
        "\n",
        "En este ejercicio podemos comprender la dificultad que pueden tener dos personas para cooperar incluso si esa cooperación fuera la mejor opción para las dos. En la mayoría de sus versiones es un juego simétrico. Es decir, los castigos de cada prisionero son las mismos. \n",
        "\n",
        "Para nuestro ejemplo vamos a utlizar a \"los Hermanos Borges \" de la serie el Marginal (Diosito y Marito). La policía los arresta y, en la comisaría, los sitúa en dos habitaciones separadas. Dado que no hay pruebas suficientes para condenarlos la policía les ofrece el mismo trato a los dos.\n",
        "\n",
        "\n",
        "Reglas:\n",
        "\n",
        " - Si Marito dice que son inocentes:\n",
        "\n",
        " Pero Diosito confiesa, Marito tendrá que pasar 7 años en la cárcel y Diosito saldrá libre.\n",
        " \n",
        " En cambio si Diosito no confiesa, los condenan a los dos por un delito menor y los dos tendrán que pasar un año en la cárcel. \n",
        "\n",
        "- Si Marito acusa a Luis:\n",
        " \n",
        " Pero Diosito vende a Marito, los dos tendrán que pasar 3 años entre las rejas.\n",
        "\n",
        " En cambio si Diosito dice que son inocentes, Marito es que saldrá libre y Diosito se come 7 años en prisión.\n",
        "\n"
      ],
      "metadata": {
        "id": "hh-VnsNsjMe2"
      }
    },
    {
      "cell_type": "code",
      "source": [
        "import random \n",
        "\n",
        "antin_text = print(\" Antin: Mario borges, te tengo a vos y a tu hermano Diosito por un delito menor.  Queres confesar? \")\n",
        "\n",
        "\n",
        "marito_option = input(\"Marito: \")\n",
        "\n",
        "diosito_option = random.choice([\"Confesar\", \"No confesar\"])\n",
        "\n",
        "if marito_option == \"Confesar\" and diosito_option == \"No confesar\":\n",
        "  print(\"Marito sale en libertad y Diosito se come 7 años\")\n",
        "\n",
        "elif marito_option == \"No confesar\" and diosito_option == \"No confesar\":\n",
        "  print(\"Los hermanos Borges pasan 1 año en la carcel de San Onofre por delito menor\")\n",
        "\n",
        "elif marito_option == \"Confesar\" and diosito_option == \"Confesar\":\n",
        "  print(\"Los hermanos Borges pasan 3 año en la carcel de San Onofre\")\n",
        "\n",
        "elif marito_option == \"No confesar\" and diosito_option == \"Confesar\":\n",
        "  print(\"Marito tendrá que pasar 7 años en la cárcel y Diosito saldrá libre\")"
      ],
      "metadata": {
        "id": "fjd0TspujMIH",
        "colab": {
          "base_uri": "https://localhost:8080/"
        },
        "outputId": "a653a327-3969-4ad0-9ca7-b5c9ae92792e"
      },
      "execution_count": null,
      "outputs": [
        {
          "output_type": "stream",
          "name": "stdout",
          "text": [
            " Antin: Mario borges, te tengo a vos y a tu hermano Diosito por un delito menor.  Queres confesar? \n",
            "Marito: Confesar\n",
            "Marito sale en libertad y Diosito se come 7 años\n"
          ]
        }
      ]
    },
    {
      "cell_type": "markdown",
      "source": [
        "### **String recargado**\n",
        "\n",
        "Python tiene un conjunto de métodos integrados que puede usar en string.\n",
        "\n",
        "Todos los métodos string devuelven nuevos valores. No cambian la cadena original.\n",
        "\n",
        "Descripción del método:\n",
        "\n",
        "\n",
        "capitalize() Convierte el primer carácter a mayúsculas\n",
        "\n",
        "\n",
        "casefold() Convierte una cadena en minúsculas\n",
        "\n",
        "center() Devuelve una cadena centrada\n",
        "\n",
        "count() Devuelve el número de veces que aparece un valor específico en una \n",
        "cadena\n",
        "\n",
        "encode() Devuelve una versión codificada de la cadena\n",
        "\n",
        "termina con () Devuelve verdadero si la cadena termina con el valor especificado\n",
        "\n",
        "expandtabs() Establece el tamaño de tabulación de la cadena\n",
        "\n",
        "find() Busca en la cadena un valor específico y devuelve la posición donde se encontró\n",
        "\n",
        "format() Formatea los valores especificados en una cadena\n",
        "\n",
        "format_map() Formatea los valores especificados en una cadena\n",
        "\n",
        "index() Busca en la cadena un valor específico y devuelve la posición donde se encontró\n",
        "\n",
        "isalnum() Devuelve True si todos los caracteres de la cadena son alfanuméricos\n",
        "\n",
        "isalpha() Devuelve True si todos los caracteres de la cadena están en el alfabeto\n",
        "\n",
        "isdecimal() Devuelve True si todos los caracteres de la cadena son decimales\n",
        "\n",
        "isdigit() Devuelve True si todos los caracteres de la cadena son dígitos\n",
        "\n",
        "isidentifier() Devuelve True si la cadena es un identificador\n",
        "\n",
        "islower() Devuelve True si todos los caracteres de la cadena están en minúsculas\n",
        "\n",
        "isnumeric() Devuelve True si todos los caracteres de la cadena son numéricos\n",
        "\n",
        "isprintable() Devuelve True si todos los caracteres de la cadena son imprimibles\n",
        "\n",
        "isspace() Devuelve True si todos los caracteres de la cadena son espacios en \n",
        "blanco\n",
        "\n",
        "istitle() Devuelve True si la cadena sigue las reglas de un título\n",
        "\n",
        "isupper() Devuelve True si todos los caracteres de la cadena están en mayúsculas\n",
        "\n",
        "join() Une los elementos de un iterable al final de la cadena\n",
        "\n",
        "ljust() Devuelve una versión justificada a la izquierda de la cadena\n",
        "\n",
        "lower() Convierte una cadena en minúsculas\n",
        "\n",
        "lstrip() Devuelve una versión recortada a la izquierda de la cadena\n",
        "\n",
        "maketrans() Devuelve una tabla de traducción para ser utilizada en las traducciones\n",
        "partition () Devuelve una tupla donde la cadena se divide en tres partes\n",
        "\n",
        "replace () Devuelve una cadena donde un valor especificado se reemplaza con un valor especificado\n",
        "\n",
        "rfind() Busca en la cadena un valor específico y devuelve la última posición donde se encontró\n",
        "\n",
        "rindex() Busca en la cadena un valor específico y devuelve la última posición donde se encontró\n",
        "\n",
        "rjust() Devuelve una versión justificada a la derecha de la cadena\n",
        "\n",
        "rpartition() Devuelve una tupla donde la cadena se divide en tres partes\n",
        "\n",
        "rsplit() Divide la cadena en el separador especificado y devuelve una lista\n",
        "\n",
        "rstrip() Devuelve una versión recortada a la derecha de la cadena\n",
        "\n",
        "split() Divide la cadena en el separador especificado y devuelve una lista\n",
        "\n",
        "splitlines() Divide la cadena en los saltos de línea y devuelve una lista\n",
        "\n",
        "startwith () Devuelve verdadero si la cadena comienza con el valor especificado\n",
        "\n",
        "strip() Devuelve una versión recortada de la cadena\n",
        "\n",
        "swapcase() Intercambia mayúsculas y minúsculas y viceversa\n",
        "\n",
        "title() Convierte el primer carácter de cada palabra a mayúsculas\n",
        "\n",
        "translate() Devuelve una cadena traducida\n",
        "\n",
        "upper() Convierte una cadena en mayúsculas\n",
        "\n",
        "zfill() Rellena la cadena con un número específico de valores 0 al principio\n"
      ],
      "metadata": {
        "id": "nPd5KoDYIPDA"
      }
    },
    {
      "cell_type": "markdown",
      "source": [
        "### **Indexing y slicing**\n",
        "\n",
        "\n",
        "- Indexar es crear una referencia a un elemento de un iterable (tuplas, strings) por su posición particular dentro del iterable.\n",
        "\n",
        "- Para comprobar cómo acceder a los elementos individuales de una lista, primero crearemos una lista. Veremos cómo funcionan las secuencias de objetos dentro de la lista en Python. La lista de objetos se escribe entre corchetes."
      ],
      "metadata": {
        "id": "bHZEhYt4KL6V"
      }
    },
    {
      "cell_type": "code",
      "source": [
        "txt = \"Ella sabe python \"\n",
        "print(txt[0])\n",
        "print(txt[12])\n",
        "#print(txt[879]) - Esta pocsion no existe\n",
        "\n",
        "\n",
        "size = len(txt)\n",
        "print(\"size =>\",size - 1) #Calcuar el tamaño del string\n",
        "\n"
      ],
      "metadata": {
        "colab": {
          "base_uri": "https://localhost:8080/"
        },
        "id": "c8HhfOu4LJ_O",
        "outputId": "7735c6d7-c88f-4797-b114-fb78e81bd6e1"
      },
      "execution_count": null,
      "outputs": [
        {
          "output_type": "stream",
          "name": "stdout",
          "text": [
            "E\n",
            "t\n",
            "size => 16\n"
          ]
        }
      ]
    },
    {
      "cell_type": "markdown",
      "source": [
        "### **Slicing**\n",
        "\n",
        "\n",
        "Puede devolver un rango de caracteres utilizando la sintaxis de división.\n",
        "\n",
        "- Especifique el índice inicial y el índice final, separados por dos puntos, para devolver una parte de la cadena."
      ],
      "metadata": {
        "id": "3XLiSrDQQjkQ"
      }
    },
    {
      "cell_type": "code",
      "source": [
        "txt = \"Ella no te quiere \"\n",
        "print(txt[0:4])\n",
        "print(txt[0:4:3])#Se agrega un 3 er N para indicar la cantidad de saltos entre las pocisiones "
      ],
      "metadata": {
        "colab": {
          "base_uri": "https://localhost:8080/"
        },
        "id": "NuggMIQlQrJe",
        "outputId": "3d79b6b5-68c8-425a-9f92-8b08a28595b5"
      },
      "execution_count": null,
      "outputs": [
        {
          "output_type": "stream",
          "name": "stdout",
          "text": [
            "Ella\n",
            "Ea\n"
          ]
        }
      ]
    },
    {
      "cell_type": "markdown",
      "source": [
        "- Al omitir el índice de inicio, el rango comenzará en el primer carácter"
      ],
      "metadata": {
        "id": "K-wP0sReRVq1"
      }
    },
    {
      "cell_type": "code",
      "source": [
        "txt = \"Ella no te quiere \"\n",
        "print(txt[:7])\n",
        "\n",
        "#Al omitir el indice completo, te devuelve toda la frase hasta el ultimo rango \n",
        "print(txt[:])"
      ],
      "metadata": {
        "colab": {
          "base_uri": "https://localhost:8080/"
        },
        "id": "U7tzDh2KRd-3",
        "outputId": "4668901e-4600-4fda-e929-cd418a3f4e37"
      },
      "execution_count": null,
      "outputs": [
        {
          "output_type": "stream",
          "name": "stdout",
          "text": [
            "Ella no\n",
            "Ella no te quiere \n"
          ]
        }
      ]
    },
    {
      "cell_type": "markdown",
      "source": [
        "- Al omitir el índice final el rango irá hasta el final, puedes marcar la posicion que queres que comienze:"
      ],
      "metadata": {
        "id": "ZTzGy2OSSK-a"
      }
    },
    {
      "cell_type": "code",
      "source": [
        "txt = \"Ella no te quiere \"\n",
        "print(txt[7:])"
      ],
      "metadata": {
        "colab": {
          "base_uri": "https://localhost:8080/"
        },
        "id": "nrIUubHfSWut",
        "outputId": "fd139a7b-0ae8-4155-d445-b11b457c0392"
      },
      "execution_count": null,
      "outputs": [
        {
          "output_type": "stream",
          "name": "stdout",
          "text": [
            " te quiere \n"
          ]
        }
      ]
    },
    {
      "cell_type": "markdown",
      "source": [
        "- indexacion negativa: indicas con - cuales son las pocisiones que no queres que se incluyan."
      ],
      "metadata": {
        "id": "pSO18uv3Sn-B"
      }
    },
    {
      "cell_type": "code",
      "source": [
        "txt = \"Ella no te quiere \"\n",
        "print(txt[0: -12])"
      ],
      "metadata": {
        "colab": {
          "base_uri": "https://localhost:8080/"
        },
        "id": "yMBLNpQ5Sy2O",
        "outputId": "72268f31-cd65-485b-9cc9-b2c01a8f7a59"
      },
      "execution_count": null,
      "outputs": [
        {
          "output_type": "stream",
          "name": "stdout",
          "text": [
            "Ella n\n"
          ]
        }
      ]
    },
    {
      "cell_type": "markdown",
      "source": [
        "### **Listas o Arrays**\n",
        "\n",
        "- Las listas se utilizan para **almacenar varios elementos** en una sola variable.\n",
        "\n",
        "- Las listas se utilizan para **almacenar informacion en difrentes estrcutras de datos.**\n",
        "\n",
        "- Las listas son uno de los **4 tipos de datos** incorporados en Python que se utilizan para almacenar colecciones de datos, los otros 3 son Tuple , Set y Dictionary , todos con diferentes calidades y usos.\n",
        "\n",
        "- **Las listas se crean usando corchetes**.\n"
      ],
      "metadata": {
        "id": "cuGbvFth8X9y"
      }
    },
    {
      "cell_type": "code",
      "source": [
        "comunidades_crypto = [\"resiliente\" ,\" block coffe\" , \"solow\" , \"calyso\"]\n",
        "print(comunidades_crypto)\n",
        "\n",
        "#ACTUALIZAR UN ELEMENTO\n",
        "\n",
        "comunidades_crypto [0]  = \"C3\"\n",
        "print(comunidades_crypto)\n",
        "\n"
      ],
      "metadata": {
        "colab": {
          "base_uri": "https://localhost:8080/"
        },
        "id": "uMlDNMVY8u2D",
        "outputId": "7749250f-00d8-406b-819b-f2b314481654"
      },
      "execution_count": null,
      "outputs": [
        {
          "output_type": "stream",
          "name": "stdout",
          "text": [
            "['resiliente', ' block coffe', 'solow', 'calyso']\n",
            "['C3', ' block coffe', 'solow', 'calyso']\n",
            "False\n"
          ]
        }
      ]
    },
    {
      "cell_type": "markdown",
      "source": [
        "- Para determinar cuántos elementos tiene una lista, usen len()."
      ],
      "metadata": {
        "id": "eqrPigYz9aRy"
      }
    },
    {
      "cell_type": "code",
      "source": [
        "comunidades_crypto = [\"resiliente , block coffe , solow , calyso\"]\n",
        "print(len(comunidades_crypto))\n",
        "\n",
        "\n"
      ],
      "metadata": {
        "colab": {
          "base_uri": "https://localhost:8080/"
        },
        "id": "vN1h_dT_-A0a",
        "outputId": "13d7ddd1-b2d1-4e72-b2b3-10f6758a4d93"
      },
      "execution_count": null,
      "outputs": [
        {
          "output_type": "stream",
          "name": "stdout",
          "text": [
            "1\n"
          ]
        }
      ]
    },
    {
      "cell_type": "markdown",
      "source": [
        "- Los elementos de la lista pueden ser de cualquier tipo de datos: \n",
        "\n",
        "  Tipos de datos de string, int y booleanos"
      ],
      "metadata": {
        "id": "QydXCXO1-G3S"
      }
    },
    {
      "cell_type": "code",
      "source": [
        "list1 = [\"apple\", \"banana\", \"cherry\"] #str\n",
        "list2 = [1, 5, 7, 9, 3]               #int\n",
        "list3 = [True, False, False]          #bool"
      ],
      "metadata": {
        "id": "toC4ilXf-NYP"
      },
      "execution_count": null,
      "outputs": []
    },
    {
      "cell_type": "markdown",
      "source": [
        "- Una lista puede contener diferentes tipos de datos:"
      ],
      "metadata": {
        "id": "wOtCGvDl-pEe"
      }
    },
    {
      "cell_type": "code",
      "source": [
        "list1 = [\"abc\", 34, True, 40, \"male\"]"
      ],
      "metadata": {
        "id": "excmdACV-xxk"
      },
      "execution_count": null,
      "outputs": []
    },
    {
      "cell_type": "markdown",
      "source": [
        "- En Python, las listas se definen como objetos con el tipo de datos 'lista':"
      ],
      "metadata": {
        "id": "DbqMXKd7-y0x"
      }
    },
    {
      "cell_type": "code",
      "source": [
        "mylist = [\"apple\", \"banana\", \"cherry\"]\n",
        "print(type(mylist))"
      ],
      "metadata": {
        "colab": {
          "base_uri": "https://localhost:8080/"
        },
        "id": "HMwpTdJm-87k",
        "outputId": "564ace38-556c-4cdb-f651-f28530b0fb4a"
      },
      "execution_count": null,
      "outputs": [
        {
          "output_type": "stream",
          "name": "stdout",
          "text": [
            "<class 'list'>\n"
          ]
        }
      ]
    },
    {
      "cell_type": "markdown",
      "source": [
        "- También es posible usar el constructor list()  para hacer una Lista:"
      ],
      "metadata": {
        "id": "5gT08-hz_MZj"
      }
    },
    {
      "cell_type": "code",
      "source": [
        "thislist = list((\"apple\", \"banana\", \"cherry\")) \n",
        "print(thislist)"
      ],
      "metadata": {
        "colab": {
          "base_uri": "https://localhost:8080/"
        },
        "id": "QDhgNTCj_j1d",
        "outputId": "bd5ff6c2-bb3c-43a2-c6c4-ad6e01e8e8ca"
      },
      "execution_count": null,
      "outputs": [
        {
          "output_type": "stream",
          "name": "stdout",
          "text": [
            "['apple', 'banana', 'cherry']\n"
          ]
        }
      ]
    },
    {
      "cell_type": "markdown",
      "source": [
        "- Hay cuatro tipos de datos :\n",
        "\n",
        "  1) La lista es una colección ordenada y modificable. \n",
        "  Permite miembros duplicados.\n",
        "\n",
        "  2)Tuple es una colección ordenada e inmutable. Permite miembros duplicados.\n",
        "\n",
        "  3)Conjunto es una colección desordenada, inmutable* y no indexada. No hay miembros duplicados.\n",
        "\n",
        "  4)El diccionario es una colección ordenada** y modificable. No hay miembros duplicados."
      ],
      "metadata": {
        "id": "rUCZxKwe_pm-"
      }
    },
    {
      "cell_type": "markdown",
      "source": [
        "### **Metodos importantes para listas :**\n",
        "\n",
        "- append(): Añade un ítem al final de la lista.\n",
        "\n",
        "- clear(): Vacía todos los ítems de una lista.\n",
        "\n",
        "- extend(): Une una lista a otra.\n",
        "\n",
        "- count(): Cuenta el número de veces que aparece un ítem.\n",
        "\n",
        "- index(): Devuelve el índice en el que aparece un ítem (error si no aparece).\n",
        "\n",
        "- insert(): Agrega un ítem a la lista en un índice específico.\n",
        "\n",
        "- pop(): Extrae un ítem de la lista y lo borra.\n",
        "\n",
        "- remove(): Borra el primer ítem de la lista cuyo valor concuerde con el que indicamos.\n",
        "\n",
        "- reverse(): Le da la vuelta a la lista actual.\n",
        "\n",
        "- sort(): Ordena automáticamente los ítems de una lista por su valor de menor a mayor.\n",
        "\n",
        "\n"
      ],
      "metadata": {
        "id": "7buZaHSwAjdC"
      }
    },
    {
      "cell_type": "code",
      "source": [
        "#CRUD CREAR LEER ACTUALIZAR ELIMINAR\n",
        "\n",
        "#Crear listas\n",
        "numeros1=[1,2,3,4,5]\n",
        "print(numeros1[1])\n",
        "\n",
        "#Actualizar elementos\n",
        "numeros1[-1]=10\n",
        "print(numeros1)\n",
        "\n",
        "#Añadir elementos\n",
        "numeros1.append(700)\n",
        "print(numeros1)\n",
        "numeros1.insert(0,100)\n",
        "print(numeros1)\n",
        "\n",
        "#Sumar listas\n",
        "tareas=[\"todo1\",\"todo2\",\"todo3\"]\n",
        "nueva_lista=numeros1+tareas\n",
        "print(nueva_lista)\n",
        "\n",
        "#Busqueda de un elemento\n",
        "#Esta busqueda nos permite actalizarlo\n",
        "busqueda=nueva_lista.index(\"todo2\")\n",
        "print(nueva_lista[busqueda])\n",
        "nueva_lista[busqueda]=\"todo cambio\"\n",
        "print(nueva_lista)\n",
        "\n",
        "#Eliminar un elemento especifico\n",
        "nueva_lista.remove(\"todo1\")\n",
        "print(nueva_lista)\n",
        "\n",
        "#Eliminar por index o posicion\n",
        "#Pop: Sin parametro elimina el ultimo\n",
        "#Con parametro elimina segun el indice\n",
        "nueva_lista.pop()\n",
        "print(nueva_lista)\n",
        "nueva_lista.pop(0)\n",
        "print(nueva_lista)\n",
        "\n",
        "#Invertir lista\n",
        "nueva_lista.reverse()\n",
        "print(nueva_lista)\n",
        "\n",
        "#Ordenar lista\n",
        "numeros=[1,4,23,5,4]\n",
        "numeros.sort()\n",
        "print(numeros)\n",
        "\n",
        "strings=[\"re\",\"ab\",\"cd\"]\n",
        "strings.sort()\n",
        "print(strings)\n",
        "\n",
        "#Copiar una lista\n",
        "original_list = [1, 2, 3, 4, 5]\n",
        "new_list = original_list.copy()\n",
        "\n",
        "#Metodo extend\n",
        "original_list = [1, 2, 3]\n",
        "additional_elements = [4, 5, 6]\n",
        "original_list.extend(additional_elements)\n",
        "print(original_list) # [1, 2, 3, 4, 5, 6]"
      ],
      "metadata": {
        "colab": {
          "base_uri": "https://localhost:8080/"
        },
        "id": "FO3n56NHDuwQ",
        "outputId": "9302172d-00cb-424a-a62c-5683d1d45d30"
      },
      "execution_count": null,
      "outputs": [
        {
          "output_type": "stream",
          "name": "stdout",
          "text": [
            "2\n",
            "[1, 2, 3, 4, 10]\n",
            "[1, 2, 3, 4, 10, 700]\n",
            "[100, 1, 2, 3, 4, 10, 700]\n",
            "[100, 1, 2, 3, 4, 10, 700, 'todo1', 'todo2', 'todo3']\n",
            "todo2\n",
            "[100, 1, 2, 3, 4, 10, 700, 'todo1', 'todo cambio', 'todo3']\n",
            "[100, 1, 2, 3, 4, 10, 700, 'todo cambio', 'todo3']\n",
            "[100, 1, 2, 3, 4, 10, 700, 'todo cambio']\n",
            "[1, 2, 3, 4, 10, 700, 'todo cambio']\n",
            "['todo cambio', 700, 10, 4, 3, 2, 1]\n",
            "[1, 4, 4, 5, 23]\n",
            "['ab', 'cd', 're']\n",
            "[1, 2, 3, 4, 5, 6]\n"
          ]
        }
      ]
    },
    {
      "cell_type": "markdown",
      "source": [
        "### **Tuplas**\n",
        "\n",
        "\n",
        "- Estructura de datos inmutables que contiene una secuencia ordenada de elementos\n",
        "\n",
        "Tupla = (1, 2, 3, 4)\n",
        "\n",
        "\n",
        "- Los elementos están separados por espacios luego de las comas\n",
        "\n",
        "- Puede contener cualquier tipo de datos\n",
        "\n",
        "- Cada posición de la tupla tiene un índice\n",
        "\n",
        "- Es inmutable y por lo tanto no puede ser modificada, lo que permite proteger mejor la data si no queremos que se modifique por error\n",
        "Acceder a un elemento\n",
        "Tupla = (”A”, “B”, “C”)\n",
        "\n",
        "\n",
        "Para recordar entre listas y tuplas, cuales son inmutables y mutables personalmente uso una analogía:\n",
        "Como las listas usan \" [ ] “, lo veo como una caja donde se puede introducir mas elementos. En cambio como las tuplas emplean” ( ) \", lo veo como una esfera que no acepta introducir mas elementos.\n",
        "\n",
        "\n",
        "Las tuplas en Python son un tipo o estructura de datos que permite almacenar datos de una manera muy parecida a las listas, con la salvedad de que son inmutables.\n",
        "\n",
        "Para saber si un objeto es una tupla puedes utilizar la función type"
      ],
      "metadata": {
        "id": "AJ-p9t6CTuIx"
      }
    },
    {
      "cell_type": "code",
      "source": [
        "numbers = (1, 2, 3, 5)\n",
        "strings = ('nico', 'zule', 'santi','nico')\n",
        "print(numbers)\n",
        "#Primer elemento\n",
        "print('0 =>', numbers[0])\n",
        "#Último elemtno\n",
        "print('-1 =>', numbers[-1])\n",
        "print(type(numbers))\n",
        "\n",
        "print(strings)\n",
        "print(type(strings))\n",
        "\n",
        "'''\n",
        "Una tupla es inmutable, es decir, \n",
        "no se puede modificar\n",
        "'''\n",
        "\n",
        "print(strings.index('zule'))\n",
        "print(strings.count('nico'))\n",
        "\n",
        "my_list = list(strings)\n",
        "print(my_list)\n",
        "print(type(my_list))\n",
        "\n",
        "my_list[1] = \"juli\"\n",
        "print(my_list)\n",
        "\n",
        "my_tuple = tuple(my_list)\n",
        "print(my_tuple)"
      ],
      "metadata": {
        "colab": {
          "base_uri": "https://localhost:8080/"
        },
        "id": "V_SEP6hucHzx",
        "outputId": "a439d01f-e24d-4153-e597-136f4ab451ef"
      },
      "execution_count": null,
      "outputs": [
        {
          "output_type": "stream",
          "name": "stdout",
          "text": [
            "(1, 2, 3, 5)\n",
            "0 => 1\n",
            "-1 => 5\n",
            "<class 'tuple'>\n",
            "('nico', 'zule', 'santi', 'nico')\n",
            "<class 'tuple'>\n",
            "1\n",
            "2\n",
            "['nico', 'zule', 'santi', 'nico']\n",
            "<class 'list'>\n",
            "['nico', 'juli', 'santi', 'nico']\n",
            "('nico', 'juli', 'santi', 'nico')\n"
          ]
        }
      ]
    },
    {
      "cell_type": "markdown",
      "source": [
        "### **Proyecto tuplas -Piedra papel o tijera**\n",
        "\n"
      ],
      "metadata": {
        "id": "LjJCsrqlcLAN"
      }
    },
    {
      "cell_type": "code",
      "source": [
        "import random\n",
        "\n",
        "opitons = ( \"piedra\" , \"papel\" , \"tijera\")\n",
        "user_option = input(\"piedra papel o tijera.=>\")\n",
        "user_option = user_option.lower()\n",
        "\n",
        "if not user_option in opitons:\n",
        "  print(\"esa opcion es ivalida\")\n",
        "\n",
        "computer_option = random.choice([\"piedra\", \"papel\", \"tijera\"])\n",
        "\n",
        "print(\"user_option=>\" , user_option)\n",
        "print(\"computer_option=>\" , computer_option)\n",
        "\n",
        "\n",
        "if user_option == \"piedra\" and computer_option == \"tijera\":\n",
        "    print(\"ganaste!: piedra rompe a tijera\")\n",
        "\n",
        "elif user_option == \"papel\" and computer_option == \"piedra\":\n",
        "    print(\"ganaste!: papel cubre a piedra\")\n",
        "\n",
        "elif user_option == \"tijera\" and computer_option == \"papel\":\n",
        "    print(\"ganaste!: tijera corta a papel\")\n",
        "\n",
        "elif user_option == computer_option:\n",
        "    print(f\"Es un empate, ya que {user_option} es igual a {computer_option}\")\n",
        "    \n",
        "else:\n",
        "    print(f\"Lo siento, perdiste, {computer_option} le gana a {user_option}\")\n",
        "\n",
        "\n"
      ],
      "metadata": {
        "colab": {
          "base_uri": "https://localhost:8080/"
        },
        "id": "uvYmTqlQcsh9",
        "outputId": "aba3e555-69da-4b9c-c794-3725d956514f"
      },
      "execution_count": null,
      "outputs": [
        {
          "output_type": "stream",
          "name": "stdout",
          "text": [
            "piedra papel o tijera.=>faja\n",
            "esa opcion es ivalida\n",
            "user_option=> faja\n",
            "computer_option=> papel\n",
            "Lo siento, perdiste, papel le gana a faja\n"
          ]
        }
      ]
    },
    {
      "cell_type": "markdown",
      "source": [
        "### **Diccionarios: definición y lectura**\n",
        "\n",
        "\n",
        "- Un diccionario en Python, es como un diccionario en la vida del día a día.\n",
        "Es decir, cada palabra tiene asociado un significado, cada palabra, que llamaremos clave, tiene asociado un significado, que llamaremos valor. \n",
        "\n",
        "- Es decir, que un diccionario no es mas que un conjunto de parejas clave – valor. \n",
        "\n",
        "- Indicar que si bien en el caso de un diccionario al uso, la clave (palabra que buscamos), siempre es una cadena de texto, en Python, la clave puede ser cualquier tipo de dato, un entero, una cadena de texto.\n",
        "\n",
        "- Incluso, es posible que el tipo de dato varíe, es decir, que para un elemento sea de un tipo y para otro elemento del diccionario, sea de otro tipo."
      ],
      "metadata": {
        "id": "2wQV_Ctl44xA"
      }
    },
    {
      "cell_type": "code",
      "source": [
        "#aprederemos sobre la estructura de los diccionarios, encontraremos una palabra y por ende su definición ==> en Python sería una llave (key), y su definición \n",
        "#los diccionarios siempre se definen entre llaves \n",
        "my_dic = {'persona,niño'}\n",
        "print(my_dic)\n",
        "print(type(my_dic))\n",
        "\n",
        "my_dic = {\n",
        "  'persona': 'niño',\n",
        "  'nombre': 'nicolas',\n",
        "  'genero':'masculino',\n",
        "  'edad': '12 años'#aca estamos definiendo los datos de diccionario\n",
        "}\n",
        "print(my_dic)\n",
        "print(len(my_dic))#con len podemos saber cuántos elementos tenemos en el dic\n",
        "\n",
        "#tambien puedo leer ese diccionario con los métodos \n",
        "print(my_dic['persona'])\n",
        "print(my_dic['nombre'])\n",
        "print(my_dic['genero'])\n",
        "print(my_dic['edad'])\n",
        "\n",
        "#tambien hay otra forma de hacer que es con el método get\n",
        "print(my_dic.get('persona'))\n",
        "print(my_dic.get('nombre'))\n",
        "print(my_dic.get('genero'))\n",
        "print(my_dic.get('edad'))\n",
        "print(my_dic.get('juan jose'))\n",
        "#la diferencia con get es que imprímelos datos que no hay nada definido(none)\n",
        "#es recomendable siempre trabajar con get, porque si no existe el diccionario no dará un error solo pondrá None \n",
        "\n",
        "#tambien podemos verificar si una llave no existe ni (IN), que nos arrojara valores bulenos \n",
        "print('persona' in my_dic)\n",
        "print('apellidos' in my_dic)\n",
        "#en esta clase vimos los primeros acercamientos a los diccionarios"
      ],
      "metadata": {
        "colab": {
          "base_uri": "https://localhost:8080/"
        },
        "id": "_v6YUB755jRm",
        "outputId": "e9da8b3a-054a-433b-9d52-733c2b4470b5"
      },
      "execution_count": null,
      "outputs": [
        {
          "output_type": "stream",
          "name": "stdout",
          "text": [
            "{'persona,niño'}\n",
            "<class 'set'>\n",
            "{'persona': 'niño', 'nombre': 'nicolas', 'genero': 'masculino', 'edad': '12 años'}\n",
            "4\n",
            "niño\n",
            "nicolas\n",
            "masculino\n",
            "12 años\n",
            "niño\n",
            "nicolas\n",
            "masculino\n",
            "12 años\n",
            "None\n",
            "True\n",
            "False\n"
          ]
        }
      ]
    },
    {
      "cell_type": "markdown",
      "source": [
        "### **Métodos de los diccionarios:**\n",
        "\n",
        "- clear() --> Elimina todos los elementos del diccionario\n",
        "\n",
        "- copy() --> Devuelve una copia del diccionario\n",
        "\n",
        "- fromkeys() --> Devuelve un diccionario con las claves y el valor especificados\n",
        "\n",
        "- get() --> Devuelve el valor de la clave especificada\n",
        "\n",
        "- items() --> Devuelve una lista que contiene una tupla para cada par de valores clave\n",
        "\n",
        "- keys() --> Devuelve una lista que contiene las claves del diccionario\n",
        "\n",
        "- pop() --> Elimina el elemento con la clave especificada\n",
        "\n",
        "- popitem() --> Elimina el último par clave-valor insertado\n",
        "\n",
        "- setdefault() --> Devuelve el valor de la clave especificada. Si la clave no \n",
        "\n",
        "- not exist: inserte la clave, con el valor especificado\n",
        "\n",
        "- update() --> Actualiza el diccionario con los pares clave-valor especificados\n",
        "\n",
        "- values() --> Devuelve una lista de todos los valores en el diccionario"
      ],
      "metadata": {
        "id": "RDzQ1bPI5qWC"
      }
    },
    {
      "cell_type": "code",
      "source": [
        "#PRINCIPALES METODOS "
      ],
      "metadata": {
        "id": "y-BcF0ggC9KH"
      },
      "execution_count": null,
      "outputs": []
    },
    {
      "cell_type": "code",
      "source": [
        "\n",
        "#GET()\n",
        "\n",
        "colores = { \"amarillo\":\"yellow\", \"azul\":\"blue\", \"verde\":\"green\" }\n",
        "print(colores.get(\"negro\"))\n"
      ],
      "metadata": {
        "colab": {
          "base_uri": "https://localhost:8080/"
        },
        "id": "lz9Wp98p6onR",
        "outputId": "dd3a17f0-98fe-46ef-8bfe-fd1f743f8a6f"
      },
      "execution_count": null,
      "outputs": [
        {
          "output_type": "stream",
          "name": "stdout",
          "text": [
            "None\n"
          ]
        }
      ]
    },
    {
      "cell_type": "code",
      "source": [
        "#KEYS()\n",
        "\n",
        "colores = { \"amarillo\":\"yellow\", \"azul\":\"blue\", \"verde\":\"green\"}\n",
        "print(colores.keys())"
      ],
      "metadata": {
        "colab": {
          "base_uri": "https://localhost:8080/"
        },
        "id": "S25nVTaJ8ibM",
        "outputId": "d9fe599c-8723-43be-a902-5ba055c1a13a"
      },
      "execution_count": null,
      "outputs": [
        {
          "output_type": "stream",
          "name": "stdout",
          "text": [
            "dict_keys(['amarillo', 'azul', 'verde'])\n"
          ]
        }
      ]
    },
    {
      "cell_type": "code",
      "source": [
        "#VALUES()\n",
        "\n",
        "colores = { \"amarillo\":\"yellow\", \"azul\":\"blue\", \"verde\":\"green\"}\n",
        "print(colores.values())"
      ],
      "metadata": {
        "colab": {
          "base_uri": "https://localhost:8080/"
        },
        "id": "73KWkG_69FFd",
        "outputId": "e50a7bf9-1d7d-4c44-9055-bd95f6395717"
      },
      "execution_count": null,
      "outputs": [
        {
          "output_type": "stream",
          "name": "stdout",
          "text": [
            "dict_values(['yellow', 'blue', 'green'])\n"
          ]
        }
      ]
    },
    {
      "cell_type": "code",
      "source": [
        "#ITEMS()\n",
        "\n",
        "colores = { \"amarillo\":\"yellow\", \"azul\":\"blue\", \"verde\":\"green\"}\n",
        "print(colores.items())\n",
        "\n",
        "for clave, valor in colores.items():\n",
        "    print(clave, valor)\n"
      ],
      "metadata": {
        "colab": {
          "base_uri": "https://localhost:8080/"
        },
        "id": "lToGGoDd9gJK",
        "outputId": "d01ec5b6-e015-46b8-ecb0-88c49ca70887"
      },
      "execution_count": null,
      "outputs": [
        {
          "output_type": "stream",
          "name": "stdout",
          "text": [
            "dict_items([('amarillo', 'yellow'), ('azul', 'blue'), ('verde', 'green')])\n",
            "amarillo yellow\n",
            "azul blue\n",
            "verde green\n"
          ]
        }
      ]
    },
    {
      "cell_type": "code",
      "source": [
        "#POP()\n",
        "\n",
        "colores = { \"amarillo\":\"yellow\", \"azul\":\"blue\", \"verde\":\"green\"}\n",
        "print(colores.pop(\"amarillo\", \"no se ha encontrado\"))\n",
        "\n",
        "print(colores.pop(\"negro\",\"no se ha encontrado\"))"
      ],
      "metadata": {
        "colab": {
          "base_uri": "https://localhost:8080/"
        },
        "id": "bmY6TUVn978U",
        "outputId": "1441e293-e1eb-4c23-b244-ef2c211d1428"
      },
      "execution_count": null,
      "outputs": [
        {
          "output_type": "stream",
          "name": "stdout",
          "text": [
            "yellow\n",
            "no se ha encontrado\n"
          ]
        }
      ]
    },
    {
      "cell_type": "code",
      "source": [
        "#CLEAN()\n",
        "\n",
        "\n",
        "colores = { \"amarillo\":\"yellow\", \"azul\":\"blue\", \"verde\":\"green\"}\n",
        "\n",
        "print(colores.clear())\n"
      ],
      "metadata": {
        "colab": {
          "base_uri": "https://localhost:8080/"
        },
        "id": "Z9ZJvGCt-aj5",
        "outputId": "2c43fb40-5c28-482f-89cc-e2f1d9a2846f"
      },
      "execution_count": null,
      "outputs": [
        {
          "output_type": "stream",
          "name": "stdout",
          "text": [
            "None\n"
          ]
        }
      ]
    },
    {
      "cell_type": "markdown",
      "source": [
        "### **Mini Proyecto Diccionario**"
      ],
      "metadata": {
        "id": "T078jUKAGBJQ"
      }
    },
    {
      "cell_type": "code",
      "source": [
        "#ingreso todos los valores\n",
        "\n",
        "nombre = input(\"Digite su nombre: \")\n",
        "nombre = nombre.upper()\n",
        "\n",
        "apellidos = input(\"Digite sus apellidos: \")\n",
        "apellidos = apellidos.upper()\n",
        "\n",
        "cursos = input(\"cursos tomados separado por comas: \")\n",
        "cursos = cursos.upper()\n",
        "cursos = cursos.split(\",\") # creo la lista a partir del delimitador\n",
        "\n",
        "ciudad = input(\"digite ciudad de residencia: \")\n",
        "ciudad = ciudad.upper()\n",
        "\n",
        "#creo el diccionario con mis entradas\n",
        "person = {\n",
        "  \"name\": nombre,\n",
        "  \"apellido\": apellidos,\n",
        "  \"skills\": cursos,\n",
        "  \"ciudad\": ciudad\n",
        "}\n",
        "\n",
        "print(person)\n",
        "\n",
        "person[\"nombre\"] = \"valentin\" # edito la llave nombre\n",
        "person[\"skills\"].append(\"python\") # como es una lista, puedo agregar al final este valor \n",
        "del person[\"apellido\"] # del sirve para eliminar una clave\n",
        "\n",
        "print(person)\n",
        "\n",
        "print(\"aqui vamos con 3 metodos\")\n",
        "print(person.items()) # organiza en tuplas mis conjuntos de clave-valor\n",
        "print(person.keys()) # muestra solo las claves\n",
        "print(person.values()) # muestra solo los valores\n",
        "\n",
        "#borrar todo\n",
        "person.clear()\n",
        "print(person)"
      ],
      "metadata": {
        "colab": {
          "base_uri": "https://localhost:8080/"
        },
        "id": "g-LLK1pvDHYh",
        "outputId": "bfba7b25-d30a-40e6-da63-743390421bea"
      },
      "execution_count": null,
      "outputs": [
        {
          "output_type": "stream",
          "name": "stdout",
          "text": [
            "Digite su nombre: valentin\n",
            "Digite sus apellidos: sirna\n",
            "cursos tomados separado por comas: python\n",
            "digite ciudad de residencia: argentina\n",
            "{'name': 'VALENTIN', 'apellido': 'SIRNA', 'skills': ['PYTHON'], 'ciudad': 'ARGENTINA'}\n",
            "{'name': 'VALENTIN', 'skills': ['PYTHON', 'python'], 'ciudad': 'ARGENTINA', 'nombre': 'valentin'}\n",
            "aqui vamos con 3 metodos\n",
            "dict_items([('name', 'VALENTIN'), ('skills', ['PYTHON', 'python']), ('ciudad', 'ARGENTINA'), ('nombre', 'valentin')])\n",
            "dict_keys(['name', 'skills', 'ciudad', 'nombre'])\n",
            "dict_values(['VALENTIN', ['PYTHON', 'python'], 'ARGENTINA', 'valentin'])\n",
            "{}\n"
          ]
        }
      ]
    },
    {
      "cell_type": "markdown",
      "source": [
        "### **Bucles de Python**\n",
        "\n",
        "Python tiene dos comandos de bucle primitivos:\n",
        "\n",
        "- while()\n",
        "\n",
        "- for()\n"
      ],
      "metadata": {
        "id": "EgWQ0_oc0lze"
      }
    },
    {
      "cell_type": "markdown",
      "source": [
        "1-A)  WHILE: Abre un bucle hasta que la condición sea falsa.\n",
        "            El ciclo while requiere que las variables relevantes estén listas,necesitamos definir una variable de indexación.\n",
        "\n",
        "1-B)  BREAK: Interrumpe el bucle de forma forzada."
      ],
      "metadata": {
        "id": "m6yFIIsS02ae"
      }
    },
    {
      "cell_type": "code",
      "source": [
        "i = 1\n",
        "while i < 6:\n",
        "  print(i)\n",
        "  if i == 3:\n",
        "    break\n",
        "  i += 1"
      ],
      "metadata": {
        "colab": {
          "base_uri": "https://localhost:8080/"
        },
        "id": "-SRlWp2q2GKv",
        "outputId": "cb610931-d90a-4575-f3c5-0b91804f831e"
      },
      "execution_count": null,
      "outputs": [
        {
          "output_type": "stream",
          "name": "stdout",
          "text": [
            "1\n",
            "2\n",
            "3\n"
          ]
        }
      ]
    },
    {
      "cell_type": "markdown",
      "source": [
        "2)FOR: Un bucle for se usa para iterar sobre una secuencia (es decir, una lista, una tupla, un diccionario, un conjunto o una cadena).\n",
        "\n",
        "Con el bucle for podemos ejecutar un conjunto de sentencias, una vez por cada elemento de una lista, tupla, conjunto, etc.\n",
        "\n",
        "El ciclo for no requiere una variable de indexación para establecer de antemano."
      ],
      "metadata": {
        "id": "kY3v-3Sl2qan"
      }
    },
    {
      "cell_type": "code",
      "source": [
        "fruits = [\"apple\", \"banana\", \"cherry\"]\n",
        "for x in fruits:\n",
        "  print(x)"
      ],
      "metadata": {
        "colab": {
          "base_uri": "https://localhost:8080/"
        },
        "id": "-s3qXkWS3bI4",
        "outputId": "1120f6dd-d1f9-4e32-93af-70e5c168ed45"
      },
      "execution_count": null,
      "outputs": [
        {
          "output_type": "stream",
          "name": "stdout",
          "text": [
            "apple\n",
            "banana\n",
            "cherry\n"
          ]
        }
      ]
    },
    {
      "cell_type": "markdown",
      "source": [
        " **For - Strings:**\n",
        "\n",
        "incluso las cadenas son objetos iterables, contienen una secuencia de caracteres:\n",
        "\n"
      ],
      "metadata": {
        "id": "Y1j-AoOT3j79"
      }
    },
    {
      "cell_type": "code",
      "source": [
        "fruits = [\"apple\", \"banana\", \"cherry\"]\n",
        "for x in fruits:\n",
        "  print(x)\n",
        "\n",
        "for x in \"banana\":\n",
        "  print(x)"
      ],
      "metadata": {
        "colab": {
          "base_uri": "https://localhost:8080/"
        },
        "id": "6IiaqvZq6SKK",
        "outputId": "e71a1296-0ac9-4fca-8105-07c2a7692385"
      },
      "execution_count": null,
      "outputs": [
        {
          "output_type": "stream",
          "name": "stdout",
          "text": [
            "apple\n",
            "banana\n",
            "cherry\n",
            "b\n",
            "a\n",
            "n\n",
            "a\n",
            "n\n",
            "a\n"
          ]
        }
      ]
    },
    {
      "cell_type": "markdown",
      "source": [
        "**For - Break:**\n",
        "\n",
        "Con la instrucción break podemos detener el bucle antes de que haya recorrido todos los elementos:"
      ],
      "metadata": {
        "id": "zWDSyqf26ecZ"
      }
    },
    {
      "cell_type": "code",
      "source": [
        "fruits = [\"apple\", \"banana\", \"cherry\"]\n",
        "for x in fruits:\n",
        "  print(x)\n",
        "  if x == \"banana\":\n",
        "    break"
      ],
      "metadata": {
        "colab": {
          "base_uri": "https://localhost:8080/"
        },
        "id": "Wv9P7BXt6lZR",
        "outputId": "bc915030-b0eb-4fef-9404-bd02f981c1d7"
      },
      "execution_count": null,
      "outputs": [
        {
          "output_type": "stream",
          "name": "stdout",
          "text": [
            "apple\n",
            "banana\n"
          ]
        }
      ]
    },
    {
      "cell_type": "markdown",
      "source": [
        "**For-Continue:** \n",
        "\n",
        "La declaracion continue() podemos detener la iteración actual del ciclo y continuar con la siguiente:"
      ],
      "metadata": {
        "id": "SIZU3PKQ6wuX"
      }
    },
    {
      "cell_type": "code",
      "source": [
        "fruits = [\"apple\", \"banana\", \"cherry\"]\n",
        "for x in fruits:\n",
        "  if x == \"banana\":\n",
        "    continue\n",
        "  print(x)"
      ],
      "metadata": {
        "colab": {
          "base_uri": "https://localhost:8080/"
        },
        "id": "6fNsqLo36le8",
        "outputId": "d7563b18-33fd-4a1c-99ca-9aef6141f027"
      },
      "execution_count": null,
      "outputs": [
        {
          "output_type": "stream",
          "name": "stdout",
          "text": [
            "apple\n",
            "cherry\n"
          ]
        }
      ]
    },
    {
      "cell_type": "markdown",
      "source": [
        "**For-Range:**\n",
        "\n",
        "Para recorrer un conjunto de código un número específico de veces, podemos usar la función range() ,\n",
        "\n",
        "La función range() devuelve una secuencia de números, comenzando desde 0 de forma predeterminada, se incrementa en 1 (de forma predeterminada) y termina en un número específico."
      ],
      "metadata": {
        "id": "SU3gifq97Jr5"
      }
    },
    {
      "cell_type": "code",
      "source": [
        "\n",
        "print(\"V1=>\")\n",
        "for x in range(6): #funcion range()\n",
        "  print(x)\n",
        "\n",
        "print(\"V2=>\")\n",
        "for x in range(2, 6): #especificar el valor inicial agregando un parámetro\n",
        "  print(x)\n",
        "\n",
        "print(\"V3=>\")\n",
        "for x in range(2, 30, 3): #especificar el valor del incremento agregando un tercer parámetro\n",
        "  print(x)"
      ],
      "metadata": {
        "colab": {
          "base_uri": "https://localhost:8080/"
        },
        "id": "_4jFBw6d7SLP",
        "outputId": "384d5777-1da7-4265-faf8-82572707fa49"
      },
      "execution_count": null,
      "outputs": [
        {
          "output_type": "stream",
          "name": "stdout",
          "text": [
            "V1=>\n",
            "0\n",
            "1\n",
            "2\n",
            "3\n",
            "4\n",
            "5\n",
            "V2=>\n",
            "2\n",
            "3\n",
            "4\n",
            "5\n",
            "V3=>\n",
            "2\n",
            "5\n",
            "8\n",
            "11\n",
            "14\n",
            "17\n",
            "20\n",
            "23\n",
            "26\n",
            "29\n"
          ]
        }
      ]
    },
    {
      "cell_type": "markdown",
      "source": [
        "**For- Else:**\n",
        "\n",
        "La palabra clave **else** en un forciclo especifica un bloque de código que se ejecutará cuando finalice el ciclo"
      ],
      "metadata": {
        "id": "BiM6KbcO8KTk"
      }
    },
    {
      "cell_type": "code",
      "source": [
        "for x in range(6):\n",
        "  print(x)\n",
        "else:\n",
        "  print(\"Finally finished!\")\n",
        "\n",
        "#El bloque else NO se ejecutará si el bucle se detiene mediante una instrucción break.\n",
        "\n",
        "for x in range(6):\n",
        "  if x == 3: break\n",
        "  print(x)\n",
        "else:\n",
        "  print(\"Finally finished!\")"
      ],
      "metadata": {
        "colab": {
          "base_uri": "https://localhost:8080/"
        },
        "id": "jv5QpZzV8WoL",
        "outputId": "df10139a-5e9a-44a4-e09a-a0f6b51ed4f6"
      },
      "execution_count": null,
      "outputs": [
        {
          "output_type": "stream",
          "name": "stdout",
          "text": [
            "0\n",
            "1\n",
            "2\n",
            "3\n",
            "4\n",
            "5\n",
            "Finally finished!\n",
            "0\n",
            "1\n",
            "2\n"
          ]
        }
      ]
    },
    {
      "cell_type": "markdown",
      "source": [
        "**Bucles anidados**\n",
        "\n",
        "- Un bucle anidado es un bucle dentro de un bucle.\n",
        "\n",
        "- Los ciclos anidados suelen usarse para llenar matrices (un vector de varias dimensiones) donde un ciclo recorre cada fila y otro cada columna o viceversa\n",
        "\n",
        "\n",
        "- El \"bucle interno\" se ejecutará una vez por cada iteración del \"bucle externo\":"
      ],
      "metadata": {
        "id": "E0dv3urC9ewX"
      }
    },
    {
      "cell_type": "code",
      "source": [
        "adj = [\"red\", \"big\", \"tasty\"]\n",
        "fruits = [\"apple\", \"banana\", \"cherry\"]\n",
        "\n",
        "for x in adj:\n",
        "  for y in fruits:\n",
        "    print(x, y)"
      ],
      "metadata": {
        "colab": {
          "base_uri": "https://localhost:8080/"
        },
        "id": "XuDj_zQK9jDf",
        "outputId": "9a25f35b-9769-4097-f8d8-410283e036c9"
      },
      "execution_count": null,
      "outputs": [
        {
          "output_type": "stream",
          "name": "stdout",
          "text": [
            "red apple\n",
            "red banana\n",
            "red cherry\n",
            "big apple\n",
            "big banana\n",
            "big cherry\n",
            "tasty apple\n",
            "tasty banana\n",
            "tasty cherry\n"
          ]
        }
      ]
    },
    {
      "cell_type": "code",
      "source": [
        "# Ciclos anidados\n",
        "\n",
        "matriz = [\n",
        "  [1, 2, 3], \n",
        "  [4, 5, 6], \n",
        "  [7, 8, 9]\n",
        "]\n",
        "\n",
        "# Imprime la primera fila de la matriz\n",
        "print(matriz[0])\n",
        "\n",
        "# Imprime el elemento 2 de la primera fila\n",
        "print(matriz[0][1])\n",
        "\n",
        "'''\n",
        "Recorremos las filas de la matriz y por cada fila recorremos cada una de las columnas\n",
        "'''\n",
        "for row in matriz:\n",
        "  print(row)\n",
        "  for column in row:\n",
        "    print(column)"
      ],
      "metadata": {
        "id": "eU-BClWH-jPe",
        "outputId": "9c2d2a0c-0f1e-4735-9855-74b75f0612d0",
        "colab": {
          "base_uri": "https://localhost:8080/"
        }
      },
      "execution_count": null,
      "outputs": [
        {
          "output_type": "stream",
          "name": "stdout",
          "text": [
            "[1, 2, 3]\n",
            "2\n",
            "[1, 2, 3]\n",
            "1\n",
            "2\n",
            "3\n",
            "[4, 5, 6]\n",
            "4\n",
            "5\n",
            "6\n",
            "[7, 8, 9]\n",
            "7\n",
            "8\n",
            "9\n"
          ]
        }
      ]
    },
    {
      "cell_type": "markdown",
      "source": [
        "### **Introducción a las funciones**\n",
        "\n",
        "Una función te permite definir un bloque de código reutilizable que se puede ejecutar muchas veces dentro de tu programa.\n",
        "\n",
        "\n",
        "Las funciones te permiten crear soluciones más modulares y DRY para problemas complejos.\n",
        "\n",
        "Si bien Python ya proporciona muchas funciones integradas como print() y len(), también puedes definir tus propias funciones para usar en tus proyectos.\n",
        "\n",
        "Una de las grandes ventajas de usar funciones en tu código es que reduce el número total de líneas de código en tu proyecto.\n",
        "\n",
        "\n",
        "En Python, una definición de función tiene las siguientes características:\n",
        "\n",
        "- La palabra clave def\n",
        "\n",
        "- Un nombre de función\n",
        "\n",
        "- Paréntesis ’()’, y dentro de los paréntesis los parámetros de entrada, aunque los parámetros de entrada sean opcionales.\n",
        "\n",
        "- Dos puntos ’:’\n",
        "\n",
        "- Algún bloque de código para ejecutar\n",
        "\n",
        "- Una sentencia de retorno (opcional)\n"
      ],
      "metadata": {
        "id": "_vPu_LIOwzDy"
      }
    },
    {
      "cell_type": "code",
      "source": [
        "# función sin parámetros o retorno de valores\n",
        "def diHola():\n",
        "  print(\"Hello!\")\n",
        "\n",
        "diHola()  # llamada a la función, 'Hello!' se muestra en la consola\n",
        "\n",
        "# función con un parámetro\n",
        "def holaConNombre(name):\n",
        "  print(\"Hello \" + name + \"!\")\n",
        "\n",
        "holaConNombre(\"Ada\")  # llamada a la función, 'Hello Ada!' se muestra en la consola\n",
        "\n",
        "# función con múltiples parámetros con una sentencia de retorno\n",
        "def multiplica(val1, val2):\n",
        "  return val1 * val2\n",
        "\n",
        "multiplica(3, 5)  # muestra 15 en la consola"
      ],
      "metadata": {
        "colab": {
          "base_uri": "https://localhost:8080/"
        },
        "id": "3ZwLvi_CxOlK",
        "outputId": "8944b254-3227-4254-9438-ea51dd58a732"
      },
      "execution_count": null,
      "outputs": [
        {
          "output_type": "stream",
          "name": "stdout",
          "text": [
            "Hello!\n",
            "Hello Ada!\n"
          ]
        },
        {
          "output_type": "execute_result",
          "data": {
            "text/plain": [
              "15"
            ]
          },
          "metadata": {},
          "execution_count": 1
        }
      ]
    },
    {
      "cell_type": "markdown",
      "source": [
        "Las funciones en Python se crean usando la palabra clave def, seguida de un nombre de función y parámetros de función entre paréntesis.\n",
        "\n",
        "Una función siempre devuelve un valor. La función utiliza la palabra clave return  para devolver un valor; si no desea devolver ningún valor, se devolverá el valor predeterminado None.\n",
        "\n",
        "El nombre de la función se usa para llamar a la función, pasando los parámetros necesarios entre paréntesis."
      ],
      "metadata": {
        "id": "1xZrWw4xxhmb"
      }
    },
    {
      "cell_type": "code",
      "source": [
        "# esta es una función básica de suma\n",
        "def suma(a, b):\n",
        "  return a + b\n",
        "\n",
        "result = suma(1, 2)\n",
        "# result = 3"
      ],
      "metadata": {
        "id": "-HHX5BfAxn1c"
      },
      "execution_count": null,
      "outputs": []
    },
    {
      "cell_type": "markdown",
      "source": [
        "Puedes definir valores predeterminados para los parámetros, de esa manera Python interpretará que el valor de ese parámetro es el predeterminado si no se proporciona ninguno."
      ],
      "metadata": {
        "id": "fwPV9ofixnU9"
      }
    },
    {
      "cell_type": "code",
      "source": [
        "def suma(a, b=3):\n",
        "  return a + b\n",
        "\n",
        "result = suma(1)\n",
        "# result = 4"
      ],
      "metadata": {
        "id": "CzxegunmxtsW"
      },
      "execution_count": null,
      "outputs": []
    },
    {
      "cell_type": "markdown",
      "source": [
        "Puedes pasar los parámetros en el orden que desees, utilizando el nombre del parámetro."
      ],
      "metadata": {
        "id": "fOxC5wyZxyNm"
      }
    },
    {
      "cell_type": "code",
      "source": [
        "result = suma(b=2, a=2)\n",
        "# result = 4"
      ],
      "metadata": {
        "id": "ZW4KEQ4wx5MS"
      },
      "execution_count": null,
      "outputs": []
    },
    {
      "cell_type": "markdown",
      "source": [
        "Sin embargo, no es posible pasar un argumento de palabra clave antes que uno que no sea de palabra clave"
      ],
      "metadata": {
        "id": "HjIQqZxOyA32"
      }
    },
    {
      "cell_type": "code",
      "source": [
        "result = suma(3, b=2)\n",
        "#result = 5\n",
        "result2 = suma(b=2, 3)"
      ],
      "metadata": {
        "colab": {
          "base_uri": "https://localhost:8080/",
          "height": 130
        },
        "id": "-MNduRi7yByM",
        "outputId": "b805d3a1-5473-4096-be0c-9213174323cb"
      },
      "execution_count": null,
      "outputs": [
        {
          "output_type": "error",
          "ename": "SyntaxError",
          "evalue": "ignored",
          "traceback": [
            "\u001b[0;36m  File \u001b[0;32m\"<ipython-input-6-34d100c7aafa>\"\u001b[0;36m, line \u001b[0;32m3\u001b[0m\n\u001b[0;31m    result2 = suma(b=2, 3)\u001b[0m\n\u001b[0m                        ^\u001b[0m\n\u001b[0;31mSyntaxError\u001b[0m\u001b[0;31m:\u001b[0m positional argument follows keyword argument\n"
          ]
        }
      ]
    },
    {
      "cell_type": "markdown",
      "source": [
        "Las funciones también son objetos, por lo que puedes asignarlas a una variable y usar esa variable como una función."
      ],
      "metadata": {
        "id": "eWB5l1EYyEq8"
      }
    },
    {
      "cell_type": "code",
      "source": [
        "s = suma\n",
        "result = s(1, 2)\n",
        "# result = 3"
      ],
      "metadata": {
        "id": "dYe7In_RySLu"
      },
      "execution_count": null,
      "outputs": []
    },
    {
      "cell_type": "markdown",
      "source": [
        "\n",
        "\n",
        "**Python interpreta el bloque de funciones solo cuando se llama a la función y no cuando se define la función. Por lo tanto, incluso si el bloque de definición de función contiene algún tipo de error, el intérprete de Python lo señalará solo cuando se llame a la función.**\n",
        "\n"
      ],
      "metadata": {
        "id": "Ge2ZT0jSyhht"
      }
    },
    {
      "cell_type": "markdown",
      "source": [
        "### **Funciones especificas**\n",
        "\n"
      ],
      "metadata": {
        "id": "vo4hRPJvysBj"
      }
    },
    {
      "cell_type": "markdown",
      "source": [
        "**Función max()**:\n",
        "\n",
        "Devuelve el elemento más grande en un iterable o el más grande de dos o más argumentos.\n",
        "\n",
        "Esta función toma dos o más números o cualquier tipo de iterable como argumento. Mientras damos un iterable como argumento, debemos asegurarnos de que todos los elementos del iterable sean del mismo tipo. Esto significa que no podemos pasar una lista que tenga almacenados valores enteros y de cadena. Sintaxis: max (iterable, * iterables [, clave, predeterminado]) max (arg1, arg2, * args [, clave])\n",
        "\n",
        "Se devuelve el elemento más grande del iterable. Si se proporcionan dos o más argumentos posicionales, se devuelve el mayor de los argumentos posicionales. Si el iterable está vacío y no se proporciona el valor predeterminado, se genera un ValueError."
      ],
      "metadata": {
        "id": "khPe7tShy0sZ"
      }
    },
    {
      "cell_type": "code",
      "source": [
        " \n",
        "#Argumentos válidos:\n",
        "\n",
        "max(2, 3)\n",
        "max([1, 2, 3])\n",
        "max('a', 'b', 'c')"
      ],
      "metadata": {
        "colab": {
          "base_uri": "https://localhost:8080/",
          "height": 35
        },
        "id": "FOyO9HjHzIFT",
        "outputId": "30a49524-aa96-4cc7-dc88-9516f51d0cb6"
      },
      "execution_count": null,
      "outputs": [
        {
          "output_type": "execute_result",
          "data": {
            "text/plain": [
              "'c'"
            ],
            "application/vnd.google.colaboratory.intrinsic+json": {
              "type": "string"
            }
          },
          "metadata": {},
          "execution_count": 8
        }
      ]
    },
    {
      "cell_type": "code",
      "source": [
        "\n",
        "#Argumentos inválidos:\n",
        "\n",
        "max(2, 'a')\n",
        "max([1, 2, 3, 'a'])\n",
        "max([])"
      ],
      "metadata": {
        "colab": {
          "base_uri": "https://localhost:8080/",
          "height": 235
        },
        "id": "oKQiIXSMzOcq",
        "outputId": "a252984c-530f-47b9-cbaa-1e47eea28c4e"
      },
      "execution_count": null,
      "outputs": [
        {
          "output_type": "error",
          "ename": "TypeError",
          "evalue": "ignored",
          "traceback": [
            "\u001b[0;31m---------------------------------------------------------------------------\u001b[0m",
            "\u001b[0;31mTypeError\u001b[0m                                 Traceback (most recent call last)",
            "\u001b[0;32m<ipython-input-9-26fb9f7c5ea0>\u001b[0m in \u001b[0;36m<module>\u001b[0;34m\u001b[0m\n\u001b[1;32m      1\u001b[0m \u001b[0;31m#Argumentos inválidos:\u001b[0m\u001b[0;34m\u001b[0m\u001b[0;34m\u001b[0m\u001b[0;34m\u001b[0m\u001b[0m\n\u001b[1;32m      2\u001b[0m \u001b[0;34m\u001b[0m\u001b[0m\n\u001b[0;32m----> 3\u001b[0;31m \u001b[0mmax\u001b[0m\u001b[0;34m(\u001b[0m\u001b[0;36m2\u001b[0m\u001b[0;34m,\u001b[0m \u001b[0;34m'a'\u001b[0m\u001b[0;34m)\u001b[0m\u001b[0;34m\u001b[0m\u001b[0;34m\u001b[0m\u001b[0m\n\u001b[0m\u001b[1;32m      4\u001b[0m \u001b[0mmax\u001b[0m\u001b[0;34m(\u001b[0m\u001b[0;34m[\u001b[0m\u001b[0;36m1\u001b[0m\u001b[0;34m,\u001b[0m \u001b[0;36m2\u001b[0m\u001b[0;34m,\u001b[0m \u001b[0;36m3\u001b[0m\u001b[0;34m,\u001b[0m \u001b[0;34m'a'\u001b[0m\u001b[0;34m]\u001b[0m\u001b[0;34m)\u001b[0m\u001b[0;34m\u001b[0m\u001b[0;34m\u001b[0m\u001b[0m\n\u001b[1;32m      5\u001b[0m \u001b[0mmax\u001b[0m\u001b[0;34m(\u001b[0m\u001b[0;34m[\u001b[0m\u001b[0;34m]\u001b[0m\u001b[0;34m)\u001b[0m\u001b[0;34m\u001b[0m\u001b[0;34m\u001b[0m\u001b[0m\n",
            "\u001b[0;31mTypeError\u001b[0m: '>' not supported between instances of 'str' and 'int'"
          ]
        }
      ]
    },
    {
      "cell_type": "code",
      "source": [
        "print(max(2, 3)) # Devuelve 3 ya que 3 es el mayor de los dos valores\n",
        "print(max(2, 3, 23)) # Devuelve 23 ya que 23 es el mayor de todos los valores\n",
        "\n",
        "list1 = [1, 2, 4, 5, 54]\n",
        "print(max(list1)) # Devuelve 54 ya que 54 es el valor más grande de la lista\n",
        "\n",
        "list2 = ['a', 'b', 'c' ]\n",
        "print(max(list2)) # Devuelve 'c' ya que 'c' es el valor más grande en la lista porque 'c' tiene un valor ascii mayor que 'a' ,'b'.\n",
        "\n",
        "list3 = [1, 2, 'abc', 'xyz']\n",
        "print(max(list3)) # Se genera TypeError ya que los valores en la lista son de tipos diferentes\n",
        "\n",
        "#Soluciona el TypeError mencionado anterioremente antes de continuar con el siguiente paso\n",
        "\n",
        "list4 = []\n",
        "print(max(list4)) # Se genera ValueError ya que el argumento está vacío"
      ],
      "metadata": {
        "colab": {
          "base_uri": "https://localhost:8080/",
          "height": 304
        },
        "id": "WYUFbECcz7OF",
        "outputId": "5a8a7f57-6a86-4106-fac7-b4b3fad06a5e"
      },
      "execution_count": null,
      "outputs": [
        {
          "output_type": "stream",
          "name": "stdout",
          "text": [
            "3\n",
            "23\n",
            "54\n",
            "c\n"
          ]
        },
        {
          "output_type": "error",
          "ename": "TypeError",
          "evalue": "ignored",
          "traceback": [
            "\u001b[0;31m---------------------------------------------------------------------------\u001b[0m",
            "\u001b[0;31mTypeError\u001b[0m                                 Traceback (most recent call last)",
            "\u001b[0;32m<ipython-input-10-7b27e69d5664>\u001b[0m in \u001b[0;36m<module>\u001b[0;34m\u001b[0m\n\u001b[1;32m      9\u001b[0m \u001b[0;34m\u001b[0m\u001b[0m\n\u001b[1;32m     10\u001b[0m \u001b[0mlist3\u001b[0m \u001b[0;34m=\u001b[0m \u001b[0;34m[\u001b[0m\u001b[0;36m1\u001b[0m\u001b[0;34m,\u001b[0m \u001b[0;36m2\u001b[0m\u001b[0;34m,\u001b[0m \u001b[0;34m'abc'\u001b[0m\u001b[0;34m,\u001b[0m \u001b[0;34m'xyz'\u001b[0m\u001b[0;34m]\u001b[0m\u001b[0;34m\u001b[0m\u001b[0;34m\u001b[0m\u001b[0m\n\u001b[0;32m---> 11\u001b[0;31m \u001b[0mprint\u001b[0m\u001b[0;34m(\u001b[0m\u001b[0mmax\u001b[0m\u001b[0;34m(\u001b[0m\u001b[0mlist3\u001b[0m\u001b[0;34m)\u001b[0m\u001b[0;34m)\u001b[0m \u001b[0;31m# Se genera TypeError ya que los valores en la lista son de tipos diferentes\u001b[0m\u001b[0;34m\u001b[0m\u001b[0;34m\u001b[0m\u001b[0m\n\u001b[0m\u001b[1;32m     12\u001b[0m \u001b[0;34m\u001b[0m\u001b[0m\n\u001b[1;32m     13\u001b[0m \u001b[0;31m#Soluciona el TypeError mencionado anterioremente antes de continuar con el siguiente paso\u001b[0m\u001b[0;34m\u001b[0m\u001b[0;34m\u001b[0m\u001b[0;34m\u001b[0m\u001b[0m\n",
            "\u001b[0;31mTypeError\u001b[0m: '>' not supported between instances of 'str' and 'int'"
          ]
        }
      ]
    },
    {
      "cell_type": "markdown",
      "source": [],
      "metadata": {
        "id": "TEni9UXY0D8W"
      }
    }
  ]
}