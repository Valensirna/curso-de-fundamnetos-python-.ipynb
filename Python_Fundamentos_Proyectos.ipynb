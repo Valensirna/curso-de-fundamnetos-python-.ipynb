{
  "nbformat": 4,
  "nbformat_minor": 0,
  "metadata": {
    "colab": {
      "provenance": [],
      "authorship_tag": "ABX9TyMVbmVi+vmRr9v7L5eaYEHx",
      "include_colab_link": true
    },
    "kernelspec": {
      "name": "python3",
      "display_name": "Python 3"
    },
    "language_info": {
      "name": "python"
    }
  },
  "cells": [
    {
      "cell_type": "markdown",
      "metadata": {
        "id": "view-in-github",
        "colab_type": "text"
      },
      "source": [
        "<a href=\"https://colab.research.google.com/github/Valensirna/curso-de-fundamnetos-python-.ipynb/blob/main/Python_Fundamentos_Proyectos.ipynb\" target=\"_parent\"><img src=\"https://colab.research.google.com/assets/colab-badge.svg\" alt=\"Open In Colab\"/></a>"
      ]
    },
    {
      "cell_type": "markdown",
      "source": [
        "# **Proyectos Python** "
      ],
      "metadata": {
        "id": "UtLWZOzoT0LJ"
      }
    },
    {
      "cell_type": "markdown",
      "source": [
        "## **Determinar si un número es Par o Impar**"
      ],
      "metadata": {
        "id": "EdrN0aoET9LG"
      }
    },
    {
      "cell_type": "code",
      "execution_count": null,
      "metadata": {
        "colab": {
          "base_uri": "https://localhost:8080/"
        },
        "id": "wtRN8AKGTwxI",
        "outputId": "591dda21-4771-4fee-b675-25c6129e0ec2"
      },
      "outputs": [
        {
          "output_type": "stream",
          "name": "stdout",
          "text": [
            "True\n"
          ]
        }
      ],
      "source": [
        "#Crear un progrma que imprime true si el enetero guardado en la variable num es par sino imprima false\n",
        "\n",
        "num = 60\n",
        "resto = num % 2\n",
        "condicion = resto == 0 \n",
        "print(condicion)"
      ]
    },
    {
      "cell_type": "markdown",
      "source": [
        "## **Convertir de segundos a horas, minutos y segundos**"
      ],
      "metadata": {
        "id": "x5bH0bDKZPeg"
      }
    },
    {
      "cell_type": "code",
      "source": [
        "#Elabora un programa que pida al usuario una cantidad de segundos y muestre cuanas horas, minutos y segundos son \n",
        "\n",
        "segundos = int(input(\"cantidad de segundos :\"))\n",
        "horas = segundos//3600\n",
        "sobrante1 = segundos%3600\n",
        "minutos = sobrante1//60\n",
        "sobrante2 = sobrante1%60\n",
        "\n",
        "print(\"Horas\")\n",
        "print(horas)\n",
        "print(\"Minutos\")\n",
        "print(minutos)\n",
        "print(\"Segundos\")\n",
        "print(sobrante2)"
      ],
      "metadata": {
        "colab": {
          "base_uri": "https://localhost:8080/"
        },
        "id": "z1vGA46SW4DV",
        "outputId": "6728024d-3fa8-4f09-e606-0ac64a37e99a"
      },
      "execution_count": 1,
      "outputs": [
        {
          "output_type": "stream",
          "name": "stdout",
          "text": [
            "cantidad de segundos :3000\n",
            "Horas\n",
            "0\n",
            "Minutos\n",
            "50\n",
            "Segundos\n",
            "0\n"
          ]
        }
      ]
    },
    {
      "cell_type": "markdown",
      "source": [
        "## **Verificar si un número no está en un intervalo**"
      ],
      "metadata": {
        "id": "H4-cIy6WZIp1"
      }
    },
    {
      "cell_type": "code",
      "source": [
        "#Crea un programa que ingresa un numero.Se debe mostrar True si el numero no esta entre 10  y 100, caso contrario se debe mostrar False\n",
        "\n",
        "num = int(input(\"Ingrese numero :\"))\n",
        "cond = not(num > 10 and num < 100)\n",
        "print (\"El numero no esta entre 10 y 100 =>\" , cond)"
      ],
      "metadata": {
        "colab": {
          "base_uri": "https://localhost:8080/"
        },
        "id": "2cmeNuaqZMsr",
        "outputId": "6c6bce92-4fc4-4c28-f10c-6d8ac8cd2ecc"
      },
      "execution_count": 4,
      "outputs": [
        {
          "output_type": "stream",
          "name": "stdout",
          "text": [
            "Ingrese numero :9\n",
            "El numero no esta entre 10 y 100 => True\n"
          ]
        }
      ]
    },
    {
      "cell_type": "markdown",
      "source": [
        "## **Calcular el volumen de un cilindro**\n",
        "\n",
        "- Escriba un programa  que perimita ingresar al usuario el radio(cm) y altura(cm) de termo de forma cilindrica. El programa debera calcular el volumen del termo  mostrar true si se puede llenar el termo con 300 ml de agua, mostar False caso contrario.\n",
        "\n",
        "\n",
        "RADIO = 3.5cm\n",
        "ALTURA = 10.9cm\n"
      ],
      "metadata": {
        "id": "tqvNuzscbbti"
      }
    },
    {
      "cell_type": "code",
      "source": [
        "radio = float(input(\"Ingresa el radio del termo:\"))\n",
        "altura= float(input(\"Ingresa la altura del termo:\"))\n",
        "pi = 3.14\n",
        "volumen = pi *(radio**2*altura)\n",
        "print(\"El volumen del termo es :\", volumen ,\"cm3 \")\n",
        "\n",
        "cond = volumen >= 300\n",
        "print(\"Se puede llenar el termo con 300ml de agua?\", cond )"
      ],
      "metadata": {
        "colab": {
          "base_uri": "https://localhost:8080/"
        },
        "id": "T0fwOFY7bhLK",
        "outputId": "7bed4eca-f058-48b7-fb8b-a119732e07b6"
      },
      "execution_count": 14,
      "outputs": [
        {
          "output_type": "stream",
          "name": "stdout",
          "text": [
            "Ingresa el radio del termo:3.5\n",
            "Ingresa la altura del termo:10.9\n",
            "El volumen del termo es : 419.2685 cm3 \n",
            "Se puede llenar el termo con 300ml de agua? True\n"
          ]
        }
      ]
    },
    {
      "cell_type": "markdown",
      "source": [
        "## **Reemplazar el valor de x en un polinomio**\n",
        "\n",
        "- Escribir un programa que evalue un polinommio para un **valor de x** ingresado"
      ],
      "metadata": {
        "id": "GbxH--ub4JrX"
      }
    },
    {
      "cell_type": "code",
      "source": [
        "x = int(input (\"Ingrese un valor de x :\"))\n",
        "termino_1 = 4* (x**2)\n",
        "termino_2 = (3/2)* x\n",
        "y = termino_1  + termino_2  - 5\n",
        "print(y)"
      ],
      "metadata": {
        "colab": {
          "base_uri": "https://localhost:8080/"
        },
        "id": "S_zRTE8X4y0T",
        "outputId": "04b73868-1de3-4a13-9cb9-e5377dc6c892"
      },
      "execution_count": 2,
      "outputs": [
        {
          "output_type": "stream",
          "name": "stdout",
          "text": [
            "Ingrese un valor de x :10\n",
            "410.0\n"
          ]
        }
      ]
    },
    {
      "cell_type": "markdown",
      "source": [
        "## **Calcular hipotenusa**\n",
        "\n",
        "- Escibir un programa que permita al usuario ingresar las medidas del cateto a y cateto b de un triangulo rentagulo, el programa debera calcular la hipotenusa a partir del teorema de pitagoras.\n",
        "\n",
        "     cateto a = 15.7 cm\n",
        "\n",
        "     cateto b =17.6 cm \n",
        "\n",
        "     H = x"
      ],
      "metadata": {
        "id": "D_fotbKV5vFJ"
      }
    },
    {
      "cell_type": "code",
      "source": [
        "num_1 = float(input(\"Ingresar cateto a :\"))\n",
        "num_2 = float(input(\"Ingresar cateto b :\"))\n",
        "\n",
        "h=((num_1**2) + (num_2**2))**(1/2)\n",
        "print(\"La medida de la hipotenusa es :{:.3f}\".format(h))"
      ],
      "metadata": {
        "colab": {
          "base_uri": "https://localhost:8080/"
        },
        "id": "nAxPApC37SKZ",
        "outputId": "e9fabb00-a59d-42fb-c6c8-ea47bcb51411"
      },
      "execution_count": 9,
      "outputs": [
        {
          "output_type": "stream",
          "name": "stdout",
          "text": [
            "Ingresar cateto a :15.6\n",
            "Ingresar cateto b :17.6\n",
            "La medida de la hipotenusa es :23.519\n"
          ]
        }
      ]
    },
    {
      "cell_type": "markdown",
      "source": [
        "## **Juego del Ahorcado**\n",
        "\n",
        "Escribir un pograma que simule el juego del ahorcado.El orgrama debe seleccionar una palabra aleatoria de la lista de palabras.\n",
        "\n",
        "Mostrar una pista si el usuario ingresa una paalbra y si es igual a la palabra aleatoria se imprime True, caso contrario se imprime False."
      ],
      "metadata": {
        "id": "Y8FsPle2_T-O"
      }
    },
    {
      "cell_type": "code",
      "source": [
        "import random as rd \n",
        "\n",
        "palabras = [\"Emprendedor\" , \"Programador\" , \"Cafe\" , \"Torta\" , \"Oreo\"]\n",
        "indice = rd.randint(0 , len(palabras) - 1)\n",
        "pal = palabras [indice]\n",
        "pal_May = pal.upper()\n",
        "Letra_1era = pal_May[0]\n",
        "Letra_Ult = pal_May[-1]\n",
        "n=len(pal_May) - 2\n",
        "subGuiones = n * \" _ \"\n",
        "pista = Letra_1era + subGuiones + Letra_Ult\n",
        "print(pista)\n",
        "pal_user = input(\"Adivinar la palabra:\").upper()\n",
        "cond = pal_user == pal_May\n",
        "print(\"Gano:?\" , cond)\n"
      ],
      "metadata": {
        "colab": {
          "base_uri": "https://localhost:8080/"
        },
        "id": "XgqWcZAjAF8u",
        "outputId": "8e4bdb6e-1333-4863-b19f-3865f666087d"
      },
      "execution_count": 14,
      "outputs": [
        {
          "output_type": "stream",
          "name": "stdout",
          "text": [
            "E _  _  _  _  _  _  _  _  _ R\n",
            "Adivinar la palabra:Emprendedor\n",
            "Gano:? True\n"
          ]
        }
      ]
    },
    {
      "cell_type": "markdown",
      "source": [
        "## **Contador y Acumulador**\n",
        "\n",
        "Escriba un programa que pregunte cuantos numeros se introducen, mostrar cuantos son pares  y la suma de todos los impares "
      ],
      "metadata": {
        "id": "9X0n1iPjUgjO"
      }
    },
    {
      "cell_type": "code",
      "source": [
        "veces = int(input (\"Cuantos numeros desea ingresar ?:\"))\n",
        "cont = 0\n",
        "for i in range(veces):\n",
        "  print(\"--- Ciclo\"+str(i+1)+\"--\")\n",
        "  num = int(input(\"Ingrese un numero :\"))\n",
        "  if num%2==0:\n",
        "    cont+=1\n",
        "  else: \n",
        "   acu = + num\n",
        "\n",
        "print(\"La cantidad de numeros pares es :\", cont)\n",
        "print(\"La suma total de numeros impares es :\", acu)"
      ],
      "metadata": {
        "colab": {
          "base_uri": "https://localhost:8080/"
        },
        "id": "Df3aRILuU04t",
        "outputId": "6f511c0e-5b3f-4851-c3e4-f256a8670821"
      },
      "execution_count": 20,
      "outputs": [
        {
          "output_type": "stream",
          "name": "stdout",
          "text": [
            "Cuantos numeros desea ingresar ?:2\n",
            "--- Ciclo1--\n",
            "Ingrese un numero :1\n",
            "--- Ciclo2--\n",
            "Ingrese un numero :2\n",
            "La cantidad de numeros pares es : 1\n",
            "La suma total de numeros impares es : 1\n"
          ]
        }
      ]
    },
    {
      "cell_type": "markdown",
      "source": [
        "## **Juego Cho Han**\n",
        "\n",
        "El juego japones, Cho Han, consiste en el lanzamiento de dos dados en un vaso colacado boca abajo. Los jugadores deben adivinar si es CHO(par) o si es HAN(impar).\n",
        "\n",
        "Simular el juego en python:\n",
        "\n",
        "                Un jugador ingresa cuanto dinero debe apostar en cada turno.El jugador comienza con $10 en su biletera\n",
        "                \n",
        "                - Si advina gana el doble de lo que aposto.\n",
        "\n",
        "                - Si no advina pierde lo que aposto\n"
      ],
      "metadata": {
        "id": "DlIQVt12ZE7c"
      }
    },
    {
      "cell_type": "code",
      "source": [
        "import random as rd\n",
        "\n",
        "billetera = 10 \n",
        "gana = 0 \n",
        "continuar = \"si\"\n",
        "\n",
        "print(\"Bienvienido a Cho Han:\")\n",
        "print(\"Usted tiene ${} en a billetera \".format(billetera))\n",
        "\n",
        "while billetera >0 and continuar == \"si\" :\n",
        "  apuesta = int(input(\"Ingrese su apuesta: \"))\n",
        "  if apuesta <= billetera:\n",
        "    dado_1 = rd.randint(1,6)\n",
        "    dado_2 = rd.randint(1,6)\n",
        "    total = dado_1 + dado_2\n",
        "    resto = total%2\n",
        "    par_impar =input (\"Adivina ¿par o impar?\")\n",
        "    print(\"Salio: {} + {} = {}\".format(dado_1,dado_2,total))\n",
        "    if resto ==0 and par_impar == \"par\" :\n",
        "       print(\"Gano\")\n",
        "       billetera += apuesta\n",
        "       gana += 1\n",
        "    elif  resto!= 0 and par_impar == \"impar\":\n",
        "          print(\"Gano\")\n",
        "          billetera += apuesta\n",
        "          gana += 1\n",
        "    else :\n",
        "      print(\"Perdio\")\n",
        "      billetera -= apuesta\n",
        "    print(\"Billetera :{}\".format(billetera))\n",
        "    if billetera !=0:\n",
        "       continuar =input(\"Desea seguir jugando ?: \")\n",
        "    print(\"----------\")\n",
        "\n",
        "\n",
        "\n",
        "\n",
        "print(\"Usted gano {} partidas\".format(gana))\n",
        "\n",
        "\n"
      ],
      "metadata": {
        "colab": {
          "base_uri": "https://localhost:8080/"
        },
        "id": "MOgLnGIbacIQ",
        "outputId": "a744c97c-7b18-4c32-ae1d-f0e09870d800"
      },
      "execution_count": 28,
      "outputs": [
        {
          "output_type": "stream",
          "name": "stdout",
          "text": [
            "Bienvienido a Cho Han:\n",
            "Usted tiene $10 en a billetera \n",
            "Ingrese su apuesta: 6\n",
            "Adivina ¿par o impar?par\n",
            "Salio: 3 + 6 = 9\n",
            "Perdio\n",
            "Billetera :4\n",
            "Desea seguir jugando ?: no\n",
            "----------\n",
            "Usted gano 0 partidas\n"
          ]
        }
      ]
    },
    {
      "cell_type": "markdown",
      "source": [
        "## **Números Primos**\n",
        "\n",
        "Crea un programa que identifique si el numero ingresado por el usuario es primo \n",
        "\n",
        "Numeros primos:\n",
        "\n",
        "    numeros naturales\n",
        "   \n",
        "    mayor que 1\n",
        "   \n",
        "    divisible por si mismo y 1 "
      ],
      "metadata": {
        "id": "JfCJMhw5iHVt"
      }
    },
    {
      "cell_type": "code",
      "source": [
        "from re import I\n",
        "num =int(input(\"Ingrese un numero:\"))\n",
        "\n",
        "if num > 1 :\n",
        "\n",
        "  cont = 0\n",
        "\n",
        "  for i in range(2,num):\n",
        "    resto =num%i\n",
        "    print(\"{} + {} = {}\".format(num,i,resto))\n",
        "  if  resto == 0 :\n",
        "       cont += 1\n",
        "  \n",
        "  if cont == 0 :\n",
        "      print(\"El {} es un numero primo\".format(num))\n",
        "\n",
        "  else :\n",
        "     print(\"El {} no es un numero primo\".format(num))\n",
        "\n",
        "\n",
        "else :\n",
        "  print(\"El {} no es un numero primo\".format(num))"
      ],
      "metadata": {
        "colab": {
          "base_uri": "https://localhost:8080/"
        },
        "id": "Xmck5dyJi6Fc",
        "outputId": "6e874563-792d-4244-d620-acfcba810fa5"
      },
      "execution_count": 30,
      "outputs": [
        {
          "output_type": "stream",
          "name": "stdout",
          "text": [
            "Ingrese un numero:4\n",
            "4 + 2 = 0\n",
            "4 + 3 = 1\n",
            "El 4 es un numero primo\n"
          ]
        }
      ]
    },
    {
      "cell_type": "markdown",
      "source": [
        "## **Control de pago en el Peaje**\n",
        "\n",
        "Un empresa de peaje quiere que sistematice el control de los peajes, por este pasan tres tipos de automoviles, se deja asentado cuales son sus cobros:\n",
        "  \n",
        "  1. vehiculos $3.50\n",
        "\n",
        "  2. camiones $12.00\n",
        "\n",
        "  3. tractocamión $16.00\n",
        "\n",
        "Escribir un programa que determine:\n",
        "\n",
        "         - el valor a pagar por cada auotmotor que pase por el peaje.\n",
        "\n",
        "         - total recaudado del peaje en el dia.\n",
        "\n",
        "         - total recaudado por cada tipo de automotor.\n",
        "\n",
        "         - cual es el automotor que mas pasa en el dia.\n"
      ],
      "metadata": {
        "id": "JWeO3Dtxl5DX"
      }
    },
    {
      "cell_type": "code",
      "source": [
        "automotores = [\"vehiculos\" , \"camiones\" , \"tractocamion\"]\n",
        "precios = [3.50 , 12.00 , 16.00]\n",
        "contL = [0 , 0 , 0 ]\n",
        "acumL = [0, 0 , 0]\n",
        "ingreso = int(input(\"Ingreso de automotor :\"))\n",
        "while ingreso !=0 :\n",
        "  \n",
        "  if (ingreso <= len(automotores)):\n",
        "      precio=precios[ingreso - 1]\n",
        "      contL[ingreso - 1] += 1\n",
        "      acumL[ingreso - 1] += precio\n",
        "      print(automotores)\n",
        "      print(contL)\n",
        "      print(acumL)\n",
        "  \n",
        "  else :\n",
        "     print(\"Error de ingreso\")\n",
        "\n",
        "       \n",
        "  ingreso = int(input(\"Ingreso de automotor :\"))\n",
        "  total_dia = sum(acumL)\n",
        "  print(\"El total recaudado del dia fue :\", total_dia)\n",
        "  for i in range(len(automotores)):\n",
        "    auto =automotores[i]\n",
        "    acum =acumL[i]\n",
        "    print(auto,\":\",acum)\n",
        "\n",
        "maxi = max(contL)\n",
        "pos_maxi =contL.indix(maxi)\n",
        "auto_max = automotores[pos_maxi]\n",
        "print(\"El automotor que mas paso fue :\",auto_maxi)\n",
        "\n",
        "  \n",
        "\n",
        "\n",
        "\n",
        "\n"
      ],
      "metadata": {
        "colab": {
          "base_uri": "https://localhost:8080/"
        },
        "id": "mtCOu0shoHnT",
        "outputId": "39e15c04-c62d-497c-961b-38f78c781047"
      },
      "execution_count": null,
      "outputs": [
        {
          "output_type": "stream",
          "name": "stdout",
          "text": [
            "Ingreso de automotor :2\n",
            "['vehiculos', 'camiones', 'tractocamion']\n",
            "[0, 1, 0]\n",
            "[0, 12.0, 0]\n"
          ]
        }
      ]
    }
  ]
}